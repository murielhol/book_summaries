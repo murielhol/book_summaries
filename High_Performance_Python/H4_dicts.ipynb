{
 "cells": [
  {
   "cell_type": "markdown",
   "id": "865aef8a-a928-4048-bbfe-2430114c13c2",
   "metadata": {},
   "source": [
    "# Dicts"
   ]
  },
  {
   "cell_type": "markdown",
   "id": "af280e0a-5e79-4676-872a-f32572298646",
   "metadata": {},
   "source": [
    "Lookups in lists/tuples are at best O(log(n)), while lookups in dicts are O(1).\n",
    "How? A hash table and a hash function that hashes the key into an index (long story short).\n",
    "\n",
    "When you initialize a dict, a hash table for 8 keys is created. When 2/3rds is surpassed (at 6 items), room for 18 keys is created, etc. \n",
    "\n",
    "**Increasing the hash table size is expensive**, since a new hash function is taken and all indexes are re-computed.\n",
    "This is something you migh want to concider, when you iteratively add a lot of keys to a dict. "
   ]
  },
  {
   "cell_type": "markdown",
   "id": "2cd27f4c-7954-4ce9-a048-ecd2098fb1ee",
   "metadata": {},
   "source": [
    "# Create a dict with 3 items"
   ]
  },
  {
   "cell_type": "code",
   "execution_count": 1,
   "id": "54528079-bbde-4895-9163-6542f7faa0a6",
   "metadata": {
    "execution": {
     "iopub.execute_input": "2024-01-26T14:10:56.206267Z",
     "iopub.status.busy": "2024-01-26T14:10:56.206055Z",
     "iopub.status.idle": "2024-01-26T14:10:56.212854Z",
     "shell.execute_reply": "2024-01-26T14:10:56.212374Z",
     "shell.execute_reply.started": "2024-01-26T14:10:56.206246Z"
    },
    "tags": []
   },
   "outputs": [],
   "source": [
    "import sys\n",
    "a = dict(zip(range(3), range(3)))"
   ]
  },
  {
   "cell_type": "code",
   "execution_count": 2,
   "id": "5c2cbb4d-1dbe-4fd0-872a-b8f1f2d7ed5e",
   "metadata": {
    "execution": {
     "iopub.execute_input": "2024-01-26T14:10:56.214301Z",
     "iopub.status.busy": "2024-01-26T14:10:56.213882Z",
     "iopub.status.idle": "2024-01-26T14:10:56.219923Z",
     "shell.execute_reply": "2024-01-26T14:10:56.219486Z",
     "shell.execute_reply.started": "2024-01-26T14:10:56.214279Z"
    }
   },
   "outputs": [
    {
     "data": {
      "text/plain": [
       "232"
      ]
     },
     "execution_count": 2,
     "metadata": {},
     "output_type": "execute_result"
    }
   ],
   "source": [
    "sys.getsizeof(a)"
   ]
  },
  {
   "cell_type": "markdown",
   "id": "3d34fc6b-919f-4f4f-a0b5-af8c068ed4cc",
   "metadata": {},
   "source": [
    "# Showing that the memory usage of the dict only increases when 6 items are surpassed"
   ]
  },
  {
   "cell_type": "code",
   "execution_count": 3,
   "id": "47432e41-1143-4019-b558-d492d020a551",
   "metadata": {
    "execution": {
     "iopub.execute_input": "2024-01-26T14:10:56.220814Z",
     "iopub.status.busy": "2024-01-26T14:10:56.220584Z",
     "iopub.status.idle": "2024-01-26T14:10:56.224491Z",
     "shell.execute_reply": "2024-01-26T14:10:56.224075Z",
     "shell.execute_reply.started": "2024-01-26T14:10:56.220794Z"
    }
   },
   "outputs": [
    {
     "data": {
      "text/plain": [
       "232"
      ]
     },
     "execution_count": 3,
     "metadata": {},
     "output_type": "execute_result"
    }
   ],
   "source": [
    "a[4] = 4\n",
    "sys.getsizeof(a)"
   ]
  },
  {
   "cell_type": "code",
   "execution_count": 4,
   "id": "a5f2362e-0857-4693-bdb4-44a97075f4d4",
   "metadata": {
    "execution": {
     "iopub.execute_input": "2024-01-26T14:10:56.225355Z",
     "iopub.status.busy": "2024-01-26T14:10:56.225126Z",
     "iopub.status.idle": "2024-01-26T14:10:56.228850Z",
     "shell.execute_reply": "2024-01-26T14:10:56.228418Z",
     "shell.execute_reply.started": "2024-01-26T14:10:56.225336Z"
    }
   },
   "outputs": [
    {
     "data": {
      "text/plain": [
       "232"
      ]
     },
     "execution_count": 4,
     "metadata": {},
     "output_type": "execute_result"
    }
   ],
   "source": [
    "a[5] = 5\n",
    "sys.getsizeof(a)"
   ]
  },
  {
   "cell_type": "code",
   "execution_count": 5,
   "id": "3e1d55a0-e579-4ae2-ae74-a9a3dcb82776",
   "metadata": {
    "execution": {
     "iopub.execute_input": "2024-01-26T14:10:56.229723Z",
     "iopub.status.busy": "2024-01-26T14:10:56.229489Z",
     "iopub.status.idle": "2024-01-26T14:10:56.233416Z",
     "shell.execute_reply": "2024-01-26T14:10:56.232936Z",
     "shell.execute_reply.started": "2024-01-26T14:10:56.229703Z"
    }
   },
   "outputs": [
    {
     "data": {
      "text/plain": [
       "360"
      ]
     },
     "execution_count": 5,
     "metadata": {},
     "output_type": "execute_result"
    }
   ],
   "source": [
    "a[6] = 6\n",
    "sys.getsizeof(a)"
   ]
  },
  {
   "cell_type": "code",
   "execution_count": 6,
   "id": "d8433490-afd4-4c51-a438-2f4c1af58ffd",
   "metadata": {
    "execution": {
     "iopub.execute_input": "2024-01-26T14:10:56.234361Z",
     "iopub.status.busy": "2024-01-26T14:10:56.234113Z",
     "iopub.status.idle": "2024-01-26T14:10:56.239127Z",
     "shell.execute_reply": "2024-01-26T14:10:56.238648Z",
     "shell.execute_reply.started": "2024-01-26T14:10:56.234341Z"
    }
   },
   "outputs": [
    {
     "data": {
      "text/plain": [
       "360"
      ]
     },
     "execution_count": 6,
     "metadata": {},
     "output_type": "execute_result"
    }
   ],
   "source": [
    "a[7] = 7\n",
    "sys.getsizeof(a)"
   ]
  }
 ],
 "metadata": {
  "kernelspec": {
   "display_name": "saturn (Python 3)",
   "language": "python",
   "name": "python3"
  },
  "language_info": {
   "codemirror_mode": {
    "name": "ipython",
    "version": 3
   },
   "file_extension": ".py",
   "mimetype": "text/x-python",
   "name": "python",
   "nbconvert_exporter": "python",
   "pygments_lexer": "ipython3",
   "version": "3.8.18"
  }
 },
 "nbformat": 4,
 "nbformat_minor": 5
}
