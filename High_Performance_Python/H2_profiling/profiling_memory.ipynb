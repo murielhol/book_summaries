{
 "cells": [
  {
   "cell_type": "markdown",
   "id": "bdb52de9-290a-4f45-a729-df9c8629ed7b",
   "metadata": {
    "execution": {
     "iopub.execute_input": "2024-04-03T13:52:31.381920Z",
     "iopub.status.busy": "2024-04-03T13:52:31.381557Z",
     "iopub.status.idle": "2024-04-03T13:52:31.390843Z",
     "shell.execute_reply": "2024-04-03T13:52:31.389829Z",
     "shell.execute_reply.started": "2024-04-03T13:52:31.381897Z"
    }
   },
   "source": [
    "# Memory profiling: Identify RAM bottlenecks\n",
    "\n",
    "Harder to do than CPU usage because of the garbage collection, e.g. some variables might not be collected yet until some random point. Better to look at the overall gross trend than line by line. \n",
    "\n",
    "2 scenarios:\n",
    "\n",
    "1. You use too much memory, and you need to re-write your code more smartly, e.g. don't store unused in-between variables. \n",
    "2. You use very little memory and can speed up your code by cashing.\n"
   ]
  },
  {
   "cell_type": "markdown",
   "id": "704d701e-b61c-4d0c-824b-afde62053eb8",
   "metadata": {},
   "source": [
    "## Example of profiling prepare_dataset.py"
   ]
  },
  {
   "cell_type": "code",
   "execution_count": 4,
   "id": "7ca2035e-f5e5-44e7-ad44-f0c4d60cf15e",
   "metadata": {
    "execution": {
     "iopub.execute_input": "2024-04-04T14:07:24.080483Z",
     "iopub.status.busy": "2024-04-04T14:07:24.080056Z",
     "iopub.status.idle": "2024-04-04T14:07:24.093425Z",
     "shell.execute_reply": "2024-04-04T14:07:24.092563Z",
     "shell.execute_reply.started": "2024-04-04T14:07:24.080455Z"
    },
    "tags": []
   },
   "outputs": [
    {
     "name": "stdout",
     "output_type": "stream",
     "text": [
      "The autoreload extension is already loaded. To reload it, use:\n",
      "  %reload_ext autoreload\n"
     ]
    }
   ],
   "source": [
    "%load_ext autoreload\n",
    "%autoreload 2"
   ]
  },
  {
   "cell_type": "code",
   "execution_count": 5,
   "id": "0747b4a9-2644-4ffc-9fc3-df3ee797cc1f",
   "metadata": {
    "execution": {
     "iopub.execute_input": "2024-04-04T14:07:24.946759Z",
     "iopub.status.busy": "2024-04-04T14:07:24.946318Z",
     "iopub.status.idle": "2024-04-04T14:07:24.956826Z",
     "shell.execute_reply": "2024-04-04T14:07:24.956112Z",
     "shell.execute_reply.started": "2024-04-04T14:07:24.946733Z"
    },
    "tags": []
   },
   "outputs": [],
   "source": [
    "from pathlib import Path\n",
    "path = Path(\"../../../anomaly_detection/scripts/config/config.json\")\n",
    "absolute_path_config = path.absolute()"
   ]
  },
  {
   "cell_type": "code",
   "execution_count": 7,
   "id": "4a3f2dbf-f5be-41e8-9e52-70063a7f9dd3",
   "metadata": {
    "execution": {
     "iopub.execute_input": "2024-04-04T14:09:15.828216Z",
     "iopub.status.busy": "2024-04-04T14:09:15.827829Z",
     "iopub.status.idle": "2024-04-04T14:24:53.899298Z",
     "shell.execute_reply": "2024-04-04T14:24:53.898533Z",
     "shell.execute_reply.started": "2024-04-04T14:09:15.828191Z"
    },
    "tags": []
   },
   "outputs": [
    {
     "name": "stdout",
     "output_type": "stream",
     "text": [
      "2024-04-04 14:09:22,576 [INFO] __main__ pid=1089: Load labels from: \n",
      "\ts3://sl-datascience-development/research/auto_diagnosis/failure_mode_labels/20240404.csv\n",
      "2024-04-04 14:09:27,505 [INFO] __main__ pid=1089: Load scorers from: s3://sl-rds-export-production/pivoted_scores/sl-sensor-prod-db-kms-slsensor-export-2024-04-01-06-00-30\n",
      "2024-04-04 14:17:53,143 [INFO] __main__ pid=1089: Build dataset\n",
      "Filename: ../../../anomaly_detection/scripts/prepare_dataset.py\n",
      "\n",
      "Line #    Mem usage    Increment  Occurrences   Line Contents\n",
      "=============================================================\n",
      "    44    286.1 MiB    286.1 MiB           1   @mem_profile\n",
      "    45                                         def main(config):\n",
      "    46                                         \n",
      "    47                                         \n",
      "    48    286.1 MiB      0.0 MiB           1       scorers_path = config[\"scorers_path\"]\n",
      "    49    286.1 MiB      0.0 MiB           1       failure_mode_labels_path = config[\"failure_mode_labels_path\"]\n",
      "    50                                         \n",
      "    51    286.1 MiB      0.0 MiB           1       if failure_mode_labels_path == \"latest\":\n",
      "    52    304.1 MiB     17.9 MiB           2           failure_mode_labels_path = get_latest_file(\n",
      "    53    286.1 MiB      0.0 MiB           1               \"s3://sl-datascience-development/research/auto_diagnosis/failure_mode_labels/\"\n",
      "    54                                                 )\n",
      "    55                                         \n",
      "    56    304.1 MiB      0.0 MiB           1       if scorers_path == \"latest\":\n",
      "    57    322.0 MiB     17.9 MiB           1           scorers_path = get_latest_folder(\"s3://sl-rds-export-production/pivoted_scores/\")\n",
      "    58                                         \n",
      "    59    322.0 MiB      0.0 MiB           1       logger.info(\"Load labels from: \\n\\t{}\".format(failure_mode_labels_path))\n",
      "    60    326.0 MiB      4.1 MiB           1       failure_mode_labels = FailureModeLabelFile(failure_mode_labels_path)\n",
      "    61    326.4 MiB      0.4 MiB           1       failure_mode_labels.df[\"label_class\"] = default_label_classes(failure_mode_labels.df)\n",
      "    62                                         \n",
      "    63    326.4 MiB      0.0 MiB           1       logger.info(\"Load scorers from: \" + scorers_path)\n",
      "    64   2851.5 MiB   2525.1 MiB           1       scorers_df = load_scorers(scorers_path, []).compute()\n",
      "    65                                         \n",
      "    66   2851.5 MiB      0.0 MiB           1       logger.info(\"Build dataset\")\n",
      "    67  18484.1 MiB  15632.6 MiB           1       label_df = failure_mode_labels.query(scorers_df.index.values, scorers_df.timestamp.values)\n",
      "    68  17939.6 MiB   -544.5 MiB           1       label_df = label_df.drop(columns=[\"motor_id\"])\n",
      "    69                                         \n",
      "    70  16889.2 MiB  -1050.3 MiB           1       del scorers_df\n",
      "    71  16889.2 MiB      0.0 MiB           1       del failure_mode_labels\n",
      "    72                                         \n",
      "    73  16889.2 MiB      0.0 MiB           1       now = datetime.now()\n",
      "    74  16889.2 MiB      0.0 MiB           1       today = now.strftime(\"%Y%m%d\")\n",
      "    75  16889.2 MiB      0.0 MiB           1       label_path_base = (\n",
      "    76  16889.2 MiB      0.0 MiB           1           \"s3://sl-saturncloud-workspace-research/anomaly_detection/labels/label_df_{}\".format(today)\n",
      "    77                                             )\n",
      "    78                                         \n",
      "    79                                             # @TODO EL: the name of these configuration parameters (and variable names) should ideally match as\n",
      "    80                                             # possible as the auto diagnosis ones. However this will require refactor in either one of the projects.\n",
      "    81  16889.2 MiB      0.0 MiB           2       updated_config = dict(\n",
      "    82  16889.2 MiB      0.0 MiB           1           scorers_path=scorers_path,\n",
      "    83  16889.2 MiB      0.0 MiB           1           failure_mode_labels_path=failure_mode_labels_path,\n",
      "    84  16889.2 MiB      0.0 MiB           1           revision_date=today,\n",
      "    85                                             )\n",
      "\n",
      "\n"
     ]
    }
   ],
   "source": [
    "!python -m memory_profiler ../../../anomaly_detection/scripts/prepare_dataset.py --config {absolute_path_config}"
   ]
  }
 ],
 "metadata": {
  "kernelspec": {
   "display_name": "saturn (Python 3)",
   "language": "python",
   "name": "python3"
  },
  "language_info": {
   "codemirror_mode": {
    "name": "ipython",
    "version": 3
   },
   "file_extension": ".py",
   "mimetype": "text/x-python",
   "name": "python",
   "nbconvert_exporter": "python",
   "pygments_lexer": "ipython3",
   "version": "3.8.18"
  }
 },
 "nbformat": 4,
 "nbformat_minor": 5
}
