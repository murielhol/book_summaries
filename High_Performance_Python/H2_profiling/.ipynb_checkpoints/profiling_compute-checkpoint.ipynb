{
 "cells": [
  {
   "cell_type": "markdown",
   "id": "514aab8f-a909-4e34-b3a5-c8f6fa0580d6",
   "metadata": {},
   "source": [
    "# Profiling compute/speed"
   ]
  },
  {
   "cell_type": "markdown",
   "id": "8b3d7195-b151-4a6e-a680-e3de43e0ad94",
   "metadata": {},
   "source": [
    "I came across 3 major ways of profiling:\n",
    "\n",
    "    1. deterministic: every function call is included in the profile\n",
    "    \n",
    "    2. statistical: the process is sampled every X seconds, only those samples are included in the profile\n",
    "    \n",
    "    3. line profiling: each line of code is timed seperately\n",
    "    \n",
    "This notebook shows these options, by profiling the `fast_end_to_end.py` script"
   ]
  },
  {
   "cell_type": "markdown",
   "id": "6f6aea73-7d90-4139-bc5b-7c747e5051eb",
   "metadata": {
    "tags": []
   },
   "source": [
    "## Option 1: deterministic profiling\n",
    "\n",
    "CPython is the build in tool for this. \n",
    "This is nice for very small scripts, but it quickly becomes very hard to analyse. An example:"
   ]
  },
  {
   "cell_type": "code",
   "execution_count": 1,
   "id": "e016391e",
   "metadata": {
    "execution": {
     "iopub.execute_input": "2024-04-03T11:51:42.342474Z",
     "iopub.status.busy": "2024-04-03T11:51:42.342261Z",
     "iopub.status.idle": "2024-04-03T11:51:42.360319Z",
     "shell.execute_reply": "2024-04-03T11:51:42.359545Z",
     "shell.execute_reply.started": "2024-04-03T11:51:42.342454Z"
    },
    "tags": []
   },
   "outputs": [],
   "source": [
    "%load_ext autoreload\n",
    "%autoreload 2"
   ]
  },
  {
   "cell_type": "code",
   "execution_count": 2,
   "id": "ec2de017-b6f0-48ef-b78f-40406875f5ce",
   "metadata": {
    "execution": {
     "iopub.execute_input": "2024-04-03T11:51:42.362878Z",
     "iopub.status.busy": "2024-04-03T11:51:42.362450Z",
     "iopub.status.idle": "2024-04-03T11:51:42.373273Z",
     "shell.execute_reply": "2024-04-03T11:51:42.372463Z",
     "shell.execute_reply.started": "2024-04-03T11:51:42.362843Z"
    },
    "tags": []
   },
   "outputs": [],
   "source": [
    "from IPython.display import SVG\n",
    "import pstats"
   ]
  },
  {
   "cell_type": "code",
   "execution_count": 3,
   "id": "5253a0ab-b1b3-49ec-9248-1c0bde69f19a",
   "metadata": {
    "execution": {
     "iopub.execute_input": "2024-04-03T11:51:42.374816Z",
     "iopub.status.busy": "2024-04-03T11:51:42.374426Z",
     "iopub.status.idle": "2024-04-03T11:51:42.385722Z",
     "shell.execute_reply": "2024-04-03T11:51:42.385018Z",
     "shell.execute_reply.started": "2024-04-03T11:51:42.374785Z"
    },
    "tags": []
   },
   "outputs": [],
   "source": [
    "from pathlib import Path\n",
    "path = Path(\"../../../anomaly_detection/scripts/config/fast_end_to_end_experiment.json\")\n",
    "absolute_path_config = path.absolute()"
   ]
  },
  {
   "cell_type": "code",
   "execution_count": 4,
   "id": "56ab568e-d296-4436-a582-d9228c75c4df",
   "metadata": {
    "execution": {
     "iopub.execute_input": "2024-04-03T11:51:42.386931Z",
     "iopub.status.busy": "2024-04-03T11:51:42.386629Z",
     "iopub.status.idle": "2024-04-03T11:51:42.809055Z",
     "shell.execute_reply": "2024-04-03T11:51:42.806590Z",
     "shell.execute_reply.started": "2024-04-03T11:51:42.386911Z"
    },
    "tags": []
   },
   "outputs": [
    {
     "ename": "UnboundLocalError",
     "evalue": "local variable 'child' referenced before assignment",
     "output_type": "error",
     "traceback": [
      "\u001b[0;31m---------------------------------------------------------------------------\u001b[0m",
      "\u001b[0;31mKeyboardInterrupt\u001b[0m                         Traceback (most recent call last)",
      "\u001b[0;32m/opt/saturncloud/envs/saturn/lib/python3.8/site-packages/IPython/utils/_process_posix.py\u001b[0m in \u001b[0;36msystem\u001b[0;34m(self, cmd)\u001b[0m\n\u001b[1;32m    156\u001b[0m             \u001b[0;32melse\u001b[0m\u001b[0;34m:\u001b[0m\u001b[0;34m\u001b[0m\u001b[0;34m\u001b[0m\u001b[0m\n\u001b[0;32m--> 157\u001b[0;31m                 \u001b[0mchild\u001b[0m \u001b[0;34m=\u001b[0m \u001b[0mpexpect\u001b[0m\u001b[0;34m.\u001b[0m\u001b[0mspawn\u001b[0m\u001b[0;34m(\u001b[0m\u001b[0mself\u001b[0m\u001b[0;34m.\u001b[0m\u001b[0msh\u001b[0m\u001b[0;34m,\u001b[0m \u001b[0margs\u001b[0m\u001b[0;34m=\u001b[0m\u001b[0;34m[\u001b[0m\u001b[0;34m'-c'\u001b[0m\u001b[0;34m,\u001b[0m \u001b[0mcmd\u001b[0m\u001b[0;34m]\u001b[0m\u001b[0;34m)\u001b[0m  \u001b[0;31m# Vanilla Pexpect\u001b[0m\u001b[0;34m\u001b[0m\u001b[0;34m\u001b[0m\u001b[0m\n\u001b[0m\u001b[1;32m    158\u001b[0m             \u001b[0mflush\u001b[0m \u001b[0;34m=\u001b[0m \u001b[0msys\u001b[0m\u001b[0;34m.\u001b[0m\u001b[0mstdout\u001b[0m\u001b[0;34m.\u001b[0m\u001b[0mflush\u001b[0m\u001b[0;34m\u001b[0m\u001b[0;34m\u001b[0m\u001b[0m\n",
      "\u001b[0;32m/opt/saturncloud/envs/saturn/lib/python3.8/site-packages/pexpect/pty_spawn.py\u001b[0m in \u001b[0;36m__init__\u001b[0;34m(self, command, args, timeout, maxread, searchwindowsize, logfile, cwd, env, ignore_sighup, echo, preexec_fn, encoding, codec_errors, dimensions, use_poll)\u001b[0m\n\u001b[1;32m    204\u001b[0m         \u001b[0;32melse\u001b[0m\u001b[0;34m:\u001b[0m\u001b[0;34m\u001b[0m\u001b[0;34m\u001b[0m\u001b[0m\n\u001b[0;32m--> 205\u001b[0;31m             \u001b[0mself\u001b[0m\u001b[0;34m.\u001b[0m\u001b[0m_spawn\u001b[0m\u001b[0;34m(\u001b[0m\u001b[0mcommand\u001b[0m\u001b[0;34m,\u001b[0m \u001b[0margs\u001b[0m\u001b[0;34m,\u001b[0m \u001b[0mpreexec_fn\u001b[0m\u001b[0;34m,\u001b[0m \u001b[0mdimensions\u001b[0m\u001b[0;34m)\u001b[0m\u001b[0;34m\u001b[0m\u001b[0;34m\u001b[0m\u001b[0m\n\u001b[0m\u001b[1;32m    206\u001b[0m         \u001b[0mself\u001b[0m\u001b[0;34m.\u001b[0m\u001b[0muse_poll\u001b[0m \u001b[0;34m=\u001b[0m \u001b[0muse_poll\u001b[0m\u001b[0;34m\u001b[0m\u001b[0;34m\u001b[0m\u001b[0m\n",
      "\u001b[0;32m/opt/saturncloud/envs/saturn/lib/python3.8/site-packages/pexpect/pty_spawn.py\u001b[0m in \u001b[0;36m_spawn\u001b[0;34m(self, command, args, preexec_fn, dimensions)\u001b[0m\n\u001b[1;32m    302\u001b[0m \u001b[0;34m\u001b[0m\u001b[0m\n\u001b[0;32m--> 303\u001b[0;31m         self.ptyproc = self._spawnpty(self.args, env=self.env,\n\u001b[0m\u001b[1;32m    304\u001b[0m                                      cwd=self.cwd, **kwargs)\n",
      "\u001b[0;32m/opt/saturncloud/envs/saturn/lib/python3.8/site-packages/pexpect/pty_spawn.py\u001b[0m in \u001b[0;36m_spawnpty\u001b[0;34m(self, args, **kwargs)\u001b[0m\n\u001b[1;32m    314\u001b[0m         \u001b[0;34m'''Spawn a pty and return an instance of PtyProcess.'''\u001b[0m\u001b[0;34m\u001b[0m\u001b[0;34m\u001b[0m\u001b[0m\n\u001b[0;32m--> 315\u001b[0;31m         \u001b[0;32mreturn\u001b[0m \u001b[0mptyprocess\u001b[0m\u001b[0;34m.\u001b[0m\u001b[0mPtyProcess\u001b[0m\u001b[0;34m.\u001b[0m\u001b[0mspawn\u001b[0m\u001b[0;34m(\u001b[0m\u001b[0margs\u001b[0m\u001b[0;34m,\u001b[0m \u001b[0;34m**\u001b[0m\u001b[0mkwargs\u001b[0m\u001b[0;34m)\u001b[0m\u001b[0;34m\u001b[0m\u001b[0;34m\u001b[0m\u001b[0m\n\u001b[0m\u001b[1;32m    316\u001b[0m \u001b[0;34m\u001b[0m\u001b[0m\n",
      "\u001b[0;32m/opt/saturncloud/envs/saturn/lib/python3.8/site-packages/ptyprocess/ptyprocess.py\u001b[0m in \u001b[0;36mspawn\u001b[0;34m(cls, argv, cwd, env, echo, preexec_fn, dimensions, pass_fds)\u001b[0m\n\u001b[1;32m    314\u001b[0m         \u001b[0mos\u001b[0m\u001b[0;34m.\u001b[0m\u001b[0mclose\u001b[0m\u001b[0;34m(\u001b[0m\u001b[0mexec_err_pipe_write\u001b[0m\u001b[0;34m)\u001b[0m\u001b[0;34m\u001b[0m\u001b[0;34m\u001b[0m\u001b[0m\n\u001b[0;32m--> 315\u001b[0;31m         \u001b[0mexec_err_data\u001b[0m \u001b[0;34m=\u001b[0m \u001b[0mos\u001b[0m\u001b[0;34m.\u001b[0m\u001b[0mread\u001b[0m\u001b[0;34m(\u001b[0m\u001b[0mexec_err_pipe_read\u001b[0m\u001b[0;34m,\u001b[0m \u001b[0;36m4096\u001b[0m\u001b[0;34m)\u001b[0m\u001b[0;34m\u001b[0m\u001b[0;34m\u001b[0m\u001b[0m\n\u001b[0m\u001b[1;32m    316\u001b[0m         \u001b[0mos\u001b[0m\u001b[0;34m.\u001b[0m\u001b[0mclose\u001b[0m\u001b[0;34m(\u001b[0m\u001b[0mexec_err_pipe_read\u001b[0m\u001b[0;34m)\u001b[0m\u001b[0;34m\u001b[0m\u001b[0;34m\u001b[0m\u001b[0m\n",
      "\u001b[0;31mKeyboardInterrupt\u001b[0m: ",
      "\nDuring handling of the above exception, another exception occurred:\n",
      "\u001b[0;31mUnboundLocalError\u001b[0m                         Traceback (most recent call last)",
      "\u001b[0;32m/tmp/ipykernel_4368/1970875547.py\u001b[0m in \u001b[0;36m<module>\u001b[0;34m\u001b[0m\n\u001b[0;32m----> 1\u001b[0;31m \u001b[0mget_ipython\u001b[0m\u001b[0;34m(\u001b[0m\u001b[0;34m)\u001b[0m\u001b[0;34m.\u001b[0m\u001b[0msystem\u001b[0m\u001b[0;34m(\u001b[0m\u001b[0;34m'python -W ignore -m cProfile -o profile.prof ../../../anomaly_detection/scripts/fast_end_to_end_experiment.py --config {absolute_path_config} --skip-mlflow prepare-dataset'\u001b[0m\u001b[0;34m)\u001b[0m\u001b[0;34m\u001b[0m\u001b[0;34m\u001b[0m\u001b[0m\n\u001b[0m",
      "\u001b[0;32m/opt/saturncloud/envs/saturn/lib/python3.8/site-packages/ipykernel/zmqshell.py\u001b[0m in \u001b[0;36msystem_piped\u001b[0;34m(self, cmd)\u001b[0m\n\u001b[1;32m    655\u001b[0m                 \u001b[0mself\u001b[0m\u001b[0;34m.\u001b[0m\u001b[0muser_ns\u001b[0m\u001b[0;34m[\u001b[0m\u001b[0;34m\"_exit_code\"\u001b[0m\u001b[0;34m]\u001b[0m \u001b[0;34m=\u001b[0m \u001b[0msystem\u001b[0m\u001b[0;34m(\u001b[0m\u001b[0mcmd\u001b[0m\u001b[0;34m)\u001b[0m\u001b[0;34m\u001b[0m\u001b[0;34m\u001b[0m\u001b[0m\n\u001b[1;32m    656\u001b[0m         \u001b[0;32melse\u001b[0m\u001b[0;34m:\u001b[0m\u001b[0;34m\u001b[0m\u001b[0;34m\u001b[0m\u001b[0m\n\u001b[0;32m--> 657\u001b[0;31m             \u001b[0mself\u001b[0m\u001b[0;34m.\u001b[0m\u001b[0muser_ns\u001b[0m\u001b[0;34m[\u001b[0m\u001b[0;34m\"_exit_code\"\u001b[0m\u001b[0;34m]\u001b[0m \u001b[0;34m=\u001b[0m \u001b[0msystem\u001b[0m\u001b[0;34m(\u001b[0m\u001b[0mself\u001b[0m\u001b[0;34m.\u001b[0m\u001b[0mvar_expand\u001b[0m\u001b[0;34m(\u001b[0m\u001b[0mcmd\u001b[0m\u001b[0;34m,\u001b[0m \u001b[0mdepth\u001b[0m\u001b[0;34m=\u001b[0m\u001b[0;36m1\u001b[0m\u001b[0;34m)\u001b[0m\u001b[0;34m)\u001b[0m\u001b[0;34m\u001b[0m\u001b[0;34m\u001b[0m\u001b[0m\n\u001b[0m\u001b[1;32m    658\u001b[0m \u001b[0;34m\u001b[0m\u001b[0m\n\u001b[1;32m    659\u001b[0m     \u001b[0;31m# Ensure new system_piped implementation is used\u001b[0m\u001b[0;34m\u001b[0m\u001b[0;34m\u001b[0m\u001b[0;34m\u001b[0m\u001b[0m\n",
      "\u001b[0;32m/opt/saturncloud/envs/saturn/lib/python3.8/site-packages/IPython/utils/_process_posix.py\u001b[0m in \u001b[0;36msystem\u001b[0;34m(self, cmd)\u001b[0m\n\u001b[1;32m    171\u001b[0m             \u001b[0;31m# (the character is known as ETX for 'End of Text', see\u001b[0m\u001b[0;34m\u001b[0m\u001b[0;34m\u001b[0m\u001b[0;34m\u001b[0m\u001b[0m\n\u001b[1;32m    172\u001b[0m             \u001b[0;31m# curses.ascii.ETX).\u001b[0m\u001b[0;34m\u001b[0m\u001b[0;34m\u001b[0m\u001b[0;34m\u001b[0m\u001b[0m\n\u001b[0;32m--> 173\u001b[0;31m             \u001b[0mchild\u001b[0m\u001b[0;34m.\u001b[0m\u001b[0msendline\u001b[0m\u001b[0;34m(\u001b[0m\u001b[0mchr\u001b[0m\u001b[0;34m(\u001b[0m\u001b[0;36m3\u001b[0m\u001b[0;34m)\u001b[0m\u001b[0;34m)\u001b[0m\u001b[0;34m\u001b[0m\u001b[0;34m\u001b[0m\u001b[0m\n\u001b[0m\u001b[1;32m    174\u001b[0m             \u001b[0;31m# Read and print any more output the program might produce on its\u001b[0m\u001b[0;34m\u001b[0m\u001b[0;34m\u001b[0m\u001b[0;34m\u001b[0m\u001b[0m\n\u001b[1;32m    175\u001b[0m             \u001b[0;31m# way out.\u001b[0m\u001b[0;34m\u001b[0m\u001b[0;34m\u001b[0m\u001b[0;34m\u001b[0m\u001b[0m\n",
      "\u001b[0;31mUnboundLocalError\u001b[0m: local variable 'child' referenced before assignment"
     ]
    }
   ],
   "source": [
    "!python -W ignore -m cProfile -o profile.prof ../../../anomaly_detection/scripts/fast_end_to_end_experiment.py --config {absolute_path_config} --skip-mlflow prepare-dataset"
   ]
  },
  {
   "cell_type": "code",
   "execution_count": null,
   "id": "f2ece755-2f7e-4e29-937c-31915453dda7",
   "metadata": {
    "execution": {
     "iopub.status.busy": "2024-04-03T11:51:42.810403Z",
     "iopub.status.idle": "2024-04-03T11:51:42.811892Z",
     "shell.execute_reply": "2024-04-03T11:51:42.811627Z",
     "shell.execute_reply.started": "2024-04-03T11:51:42.811606Z"
    },
    "tags": []
   },
   "outputs": [],
   "source": [
    "p = pstats.Stats(\"profile.prof\")\n",
    "p.sort_stats(\"cumulative\")\n",
    "print(f\"There are {len(p.stats)} function calls in the stats overview \\n\")\n",
    "p.print_stats(10)"
   ]
  },
  {
   "cell_type": "code",
   "execution_count": null,
   "id": "c5dc3a27-3ed8-4412-93a7-dbf916a7de11",
   "metadata": {
    "execution": {
     "iopub.status.busy": "2024-04-03T11:51:42.812955Z",
     "iopub.status.idle": "2024-04-03T11:51:42.813956Z",
     "shell.execute_reply": "2024-04-03T11:51:42.813740Z",
     "shell.execute_reply.started": "2024-04-03T11:51:42.813721Z"
    },
    "tags": []
   },
   "outputs": [],
   "source": [
    "!snakeviz \"profile.prof\""
   ]
  },
  {
   "cell_type": "markdown",
   "id": "207116a9-75db-4364-9b02-0c4b688aae47",
   "metadata": {},
   "source": [
    "# Option 2: Statistical profiling\n",
    "\n",
    "Statistical profiling increases intepretability as the profiler samples the process every X seconds. This means that short calls that do not influence the runtime significantly are left out of the chart.\n",
    "\n",
    "Packages for this are for example Pyinstrument ot py-spy.\n",
    "However, Pyinstrument can not handle multiple threads, or code build on top of C such as numpy. \n",
    "So lets look into py-spy. You can set the sampling rate in number of samples per second with the -r flag:"
   ]
  },
  {
   "cell_type": "markdown",
   "id": "357aaefa-dc34-4d61-9d25-019ee339a48e",
   "metadata": {},
   "source": [
    "#### 10 samples per second"
   ]
  },
  {
   "cell_type": "code",
   "execution_count": null,
   "id": "b5096e4e-ded1-456b-81fc-96c49491bbe6",
   "metadata": {
    "execution": {
     "iopub.status.busy": "2024-04-03T11:51:42.815516Z",
     "iopub.status.idle": "2024-04-03T11:51:42.815963Z",
     "shell.execute_reply": "2024-04-03T11:51:42.815767Z",
     "shell.execute_reply.started": "2024-04-03T11:51:42.815749Z"
    },
    "tags": []
   },
   "outputs": [],
   "source": [
    "!py-spy record -r 10 -o profile10.svg -- python -W ignore ../../../anomaly_detection/scripts/fast_end_to_end_experiment.py --config {absolute_path_config} --skip-mlflow prepare-dataset"
   ]
  },
  {
   "cell_type": "code",
   "execution_count": null,
   "id": "d31921e4-0e6c-463c-88b4-4c0d0219cb9b",
   "metadata": {
    "execution": {
     "iopub.status.busy": "2024-04-03T11:51:42.817394Z",
     "iopub.status.idle": "2024-04-03T11:51:42.817832Z",
     "shell.execute_reply": "2024-04-03T11:51:42.817635Z",
     "shell.execute_reply.started": "2024-04-03T11:51:42.817618Z"
    },
    "tags": []
   },
   "outputs": [],
   "source": [
    "SVG(\"profile10.svg\")"
   ]
  },
  {
   "cell_type": "markdown",
   "id": "045e4d17-8fa8-4132-969b-c9dd4d1a10dd",
   "metadata": {},
   "source": [
    "#### 1 sample per second"
   ]
  },
  {
   "cell_type": "code",
   "execution_count": null,
   "id": "5095c645-d84b-42d0-80b7-e9ed81a9cb24",
   "metadata": {
    "execution": {
     "iopub.status.busy": "2024-04-03T11:51:42.819046Z",
     "iopub.status.idle": "2024-04-03T11:51:42.820116Z",
     "shell.execute_reply": "2024-04-03T11:51:42.819920Z",
     "shell.execute_reply.started": "2024-04-03T11:51:42.819903Z"
    },
    "tags": []
   },
   "outputs": [],
   "source": [
    "import warnings\n",
    "warnings.filterwarnings('ignore')"
   ]
  },
  {
   "cell_type": "code",
   "execution_count": null,
   "id": "a187725b-d8b3-4540-add1-0e8ef7b7d2a0",
   "metadata": {
    "execution": {
     "iopub.status.busy": "2024-04-03T11:51:42.821957Z",
     "iopub.status.idle": "2024-04-03T11:51:42.822832Z",
     "shell.execute_reply": "2024-04-03T11:51:42.822614Z",
     "shell.execute_reply.started": "2024-04-03T11:51:42.822595Z"
    },
    "tags": []
   },
   "outputs": [],
   "source": [
    "!py-spy record -r 1 -o profile1.svg -- python -W ignore ../../anomaly_detection/scripts/fast_end_to_end_experiment.py --config {absolute_path_config} --skip-mlflow prepare-dataset"
   ]
  },
  {
   "cell_type": "code",
   "execution_count": null,
   "id": "0bca33f3-4473-40e0-8c04-cf8a64318df5",
   "metadata": {
    "execution": {
     "iopub.status.busy": "2024-04-03T11:51:42.823954Z",
     "iopub.status.idle": "2024-04-03T11:51:42.824937Z",
     "shell.execute_reply": "2024-04-03T11:51:42.824727Z",
     "shell.execute_reply.started": "2024-04-03T11:51:42.824708Z"
    },
    "tags": []
   },
   "outputs": [],
   "source": [
    "SVG(\"profile1.svg\")"
   ]
  },
  {
   "cell_type": "markdown",
   "id": "7c039f13-8dba-4194-8a51-6b15dc76284b",
   "metadata": {},
   "source": [
    "### Combine py-spy with this nice profiling viz tool: https://www.speedscope.app/"
   ]
  },
  {
   "cell_type": "code",
   "execution_count": null,
   "id": "5c70912a-c243-43a4-8f57-d97e130b157d",
   "metadata": {
    "execution": {
     "iopub.status.busy": "2024-04-03T11:51:42.826421Z",
     "iopub.status.idle": "2024-04-03T11:51:42.827044Z",
     "shell.execute_reply": "2024-04-03T11:51:42.826841Z",
     "shell.execute_reply.started": "2024-04-03T11:51:42.826823Z"
    },
    "tags": []
   },
   "outputs": [],
   "source": [
    "!py-spy record --format speedscope -r 10 -o profile.speedscope.json -- python -W ignore ../../../anomaly_detection/scripts/fast_end_to_end_experiment.py --config {absolute_path_config} --skip-mlflow end-to-end"
   ]
  },
  {
   "cell_type": "markdown",
   "id": "5e3ee206-7619-4e2f-b484-8b7c0b5b736a",
   "metadata": {},
   "source": [
    "# Option 3: line profiler\n",
    "\n",
    "My personal favourite is to profile the code line by line, using https://github.com/pyutils/line_profiler.\n",
    "\n",
    "One downside is that you have to add the profiler decorator, and thus remove this when committing code.\n",
    "\n",
    "Note that instead of using their buildin @profile decorator, a costum one is used here because that allows for profiling \n",
    "functions from other files then \\_\\_main\\_\\_."
   ]
  },
  {
   "cell_type": "code",
   "execution_count": null,
   "id": "255dd8f9",
   "metadata": {
    "execution": {
     "iopub.status.busy": "2024-04-03T11:51:42.828840Z",
     "iopub.status.idle": "2024-04-03T11:51:42.829354Z",
     "shell.execute_reply": "2024-04-03T11:51:42.829118Z",
     "shell.execute_reply.started": "2024-04-03T11:51:42.829098Z"
    }
   },
   "outputs": [],
   "source": [
    "from profiling_utils import profile\n",
    "import inspect\n",
    "from IPython.display import display, Markdown\n",
    "\n",
    "source_code = inspect.getsource(profile)\n",
    "display(Markdown(f\"```python\\n{source_code}\\n```\"))"
   ]
  },
  {
   "cell_type": "code",
   "execution_count": null,
   "id": "e101d918",
   "metadata": {
    "execution": {
     "iopub.status.busy": "2024-04-03T11:51:42.831052Z",
     "iopub.status.idle": "2024-04-03T11:51:42.831797Z",
     "shell.execute_reply": "2024-04-03T11:51:42.831556Z",
     "shell.execute_reply.started": "2024-04-03T11:51:42.831536Z"
    },
    "tags": []
   },
   "outputs": [],
   "source": [
    "# !python -W ignore  ../../../anomaly_detection/scripts/fast_end_to_end_experiment.py --config {absolute_path_config} --skip-mlflow end-to-end"
   ]
  }
 ],
 "metadata": {
  "kernelspec": {
   "display_name": "saturn (Python 3)",
   "language": "python",
   "name": "python3"
  },
  "language_info": {
   "codemirror_mode": {
    "name": "ipython",
    "version": 3
   },
   "file_extension": ".py",
   "mimetype": "text/x-python",
   "name": "python",
   "nbconvert_exporter": "python",
   "pygments_lexer": "ipython3",
   "version": "3.8.18"
  }
 },
 "nbformat": 4,
 "nbformat_minor": 5
}
