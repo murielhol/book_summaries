{
 "cells": [
  {
   "cell_type": "markdown",
   "id": "012475a6-2511-46f8-9511-f1e81973a3a4",
   "metadata": {},
   "source": [
    "# List versus Tuples\n",
    "\n",
    "- Lists are dynamic, you can change the contents and the number of items. Tuples can not be mutated after creation.\n",
    "\n",
    "- Tuples are cached during runtime, **no communication with the kernel is needed to reserve memory when you create a tuple.**\n",
    "\n",
    "- Both things make tuples more efficient to use. **Creating a tuple, e.g. (1, 2, 3, 4, 5, 6, 7, 8, 9, 10), is about 5 times faster then creating a list [1,2,3,4,5,6,7,8,9,10]**"
   ]
  },
  {
   "cell_type": "markdown",
   "id": "be963bda-dfdb-432d-9a12-3f4eb2c77b2a",
   "metadata": {},
   "source": [
    "## Append versus list comprehension\n",
    "Every time you append something to a list , python will over-allocate extra memory. This is because memory allocation is expensive, and so if you for example append 8000 items to a list, there is space for 8600 allocated. This explains the following:"
   ]
  },
  {
   "cell_type": "code",
   "execution_count": 1,
   "id": "765aa8b0-ae43-44d1-abe1-8bdd9b0a0dbe",
   "metadata": {
    "execution": {
     "iopub.execute_input": "2024-04-03T18:44:22.654940Z",
     "iopub.status.busy": "2024-04-03T18:44:22.654602Z",
     "iopub.status.idle": "2024-04-03T18:44:22.917807Z",
     "shell.execute_reply": "2024-04-03T18:44:22.916981Z",
     "shell.execute_reply.started": "2024-04-03T18:44:22.654905Z"
    },
    "tags": []
   },
   "outputs": [],
   "source": [
    "%load_ext memory_profiler"
   ]
  },
  {
   "cell_type": "code",
   "execution_count": 2,
   "id": "c5af7157-1dde-4851-907f-c18c76b878d5",
   "metadata": {
    "execution": {
     "iopub.execute_input": "2024-04-03T18:44:22.919750Z",
     "iopub.status.busy": "2024-04-03T18:44:22.919436Z",
     "iopub.status.idle": "2024-04-03T18:44:22.922831Z",
     "shell.execute_reply": "2024-04-03T18:44:22.922194Z",
     "shell.execute_reply.started": "2024-04-03T18:44:22.919728Z"
    },
    "tags": []
   },
   "outputs": [],
   "source": [
    "N = 10_000_000"
   ]
  },
  {
   "cell_type": "code",
   "execution_count": 3,
   "id": "7038e963-e7cb-44a7-918c-f8621669c5aa",
   "metadata": {
    "execution": {
     "iopub.execute_input": "2024-04-03T18:44:22.924069Z",
     "iopub.status.busy": "2024-04-03T18:44:22.923811Z",
     "iopub.status.idle": "2024-04-03T18:44:22.928220Z",
     "shell.execute_reply": "2024-04-03T18:44:22.927424Z",
     "shell.execute_reply.started": "2024-04-03T18:44:22.924050Z"
    }
   },
   "outputs": [
    {
     "name": "stderr",
     "output_type": "stream",
     "text": [
      "UsageError: %%memit is a cell magic, but the cell body is empty. Did you mean the line magic %memit (single %)?\n"
     ]
    }
   ],
   "source": [
    "%%memit "
   ]
  },
  {
   "cell_type": "code",
   "execution_count": null,
   "id": "0ca8762a-2716-45ed-b835-b675010ee869",
   "metadata": {
    "execution": {
     "iopub.status.busy": "2024-04-03T18:44:22.929067Z",
     "iopub.status.idle": "2024-04-03T18:44:22.929405Z",
     "shell.execute_reply": "2024-04-03T18:44:22.929283Z",
     "shell.execute_reply.started": "2024-04-03T18:44:22.929270Z"
    },
    "tags": []
   },
   "outputs": [],
   "source": [
    "%%memit \n",
    "\n",
    "[i for i in range(N)]"
   ]
  },
  {
   "cell_type": "code",
   "execution_count": null,
   "id": "7e6bdcca-29d2-4586-a6cc-48bfe5d90509",
   "metadata": {
    "execution": {
     "iopub.status.busy": "2024-04-03T18:44:22.930431Z",
     "iopub.status.idle": "2024-04-03T18:44:22.931007Z",
     "shell.execute_reply": "2024-04-03T18:44:22.930848Z",
     "shell.execute_reply.started": "2024-04-03T18:44:22.930834Z"
    },
    "tags": []
   },
   "outputs": [],
   "source": [
    "%%memit\n",
    "\n",
    "# this will require MORE memory because of the over allocation when appending\n",
    "l = []\n",
    "for i in range(N):\n",
    "    l.append(i)"
   ]
  },
  {
   "cell_type": "markdown",
   "id": "abe93730-003d-4b07-a18c-54ea669011fc",
   "metadata": {
    "execution": {
     "iopub.execute_input": "2024-01-26T13:54:36.981412Z",
     "iopub.status.busy": "2024-01-26T13:54:36.980952Z",
     "iopub.status.idle": "2024-01-26T13:54:36.986246Z",
     "shell.execute_reply": "2024-01-26T13:54:36.985454Z",
     "shell.execute_reply.started": "2024-01-26T13:54:36.981381Z"
    },
    "tags": []
   },
   "source": [
    "## Searching items in a list\n",
    "\n",
    "Python uses “Tim” sorting to find an item in a list. This is O(n log(n)). \n",
    "\n",
    "Note: binary search through a sorted list, is more efficient than converting the list to a dictionary (this is O(n)) and then performing a lookup (O(1))."
   ]
  },
  {
   "cell_type": "markdown",
   "id": "929fa477-c380-472c-bd85-2a728c841ff5",
   "metadata": {},
   "source": [
    "### Bisect\n",
    "\n",
    "Pythons bisect function inserts an item in a list while preserving the sorting."
   ]
  }
 ],
 "metadata": {
  "kernelspec": {
   "display_name": "saturn (Python 3)",
   "language": "python",
   "name": "python3"
  },
  "language_info": {
   "codemirror_mode": {
    "name": "ipython",
    "version": 3
   },
   "file_extension": ".py",
   "mimetype": "text/x-python",
   "name": "python",
   "nbconvert_exporter": "python",
   "pygments_lexer": "ipython3",
   "version": "3.8.18"
  }
 },
 "nbformat": 4,
 "nbformat_minor": 5
}
