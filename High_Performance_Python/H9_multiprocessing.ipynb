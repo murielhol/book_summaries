{
 "cells": [
  {
   "cell_type": "markdown",
   "id": "1e1f02e2-beb9-4b68-abee-c89491e4babc",
   "metadata": {},
   "source": [
    "# Multiprocessing module\n",
    "\n",
    "Bets suited for single machine multicore parallelism.\n",
    "Great for **CPU bound issues.**"
   ]
  },
  {
   "cell_type": "markdown",
   "id": "5edc5085-9c5a-47b8-880c-91e2b8ed2122",
   "metadata": {},
   "source": [
    "**Treads** vs multiple **Processes**: multiple treads still suffer from the python GIL and so wont get you far, except when using numpy, which does not suffer from the GIL because it is in C. But multi-processing will spin up multiple python interpreters that each have their own GIL. "
   ]
  },
  {
   "cell_type": "code",
   "execution_count": 1,
   "id": "8fda7df1-a018-48c3-a6d9-077b07f10cc8",
   "metadata": {
    "execution": {
     "iopub.execute_input": "2024-04-03T12:53:54.028821Z",
     "iopub.status.busy": "2024-04-03T12:53:54.028611Z",
     "iopub.status.idle": "2024-04-03T12:53:54.410364Z",
     "shell.execute_reply": "2024-04-03T12:53:54.409736Z",
     "shell.execute_reply.started": "2024-04-03T12:53:54.028800Z"
    },
    "tags": []
   },
   "outputs": [],
   "source": [
    "import random\n",
    "import multiprocessing\n",
    "from joblib import Parallel, delayed\n",
    "\n",
    "def monte_carlo_pi_part(n):\n",
    "    \"\"\"\n",
    "    Function to estimate pi using Monte Carlo method in parallel.\n",
    "    n is the number of random points to generate.\n",
    "    \"\"\"\n",
    "    count = sum(1 for _ in range(n) if random.random()**2 + random.random()**2 <= 1)\n",
    "    return count\n",
    "\n",
    "def main(num_samples):\n",
    "    inside_circle = monte_carlo_pi_part(num_samples)\n",
    "    pi_estimate = 4 * inside_circle / num_samples  # Estimate Pi\n",
    "    print(f\"Estimated Pi = {pi_estimate}\")\n",
    "\n",
    "\n",
    "def main_multi_process(processes, total_points):\n",
    "    with multiprocessing.Pool(processes=processes) as pool:\n",
    "        # Split total_points among processes\n",
    "        part_counts = [total_points // processes for _ in range(processes)]\n",
    "        \n",
    "        # Estimate pi using all processes\n",
    "        counts = pool.map(monte_carlo_pi_part, part_counts)\n",
    "        \n",
    "        # Combine the counts from all processes\n",
    "        total_count = sum(counts)\n",
    "        \n",
    "        # Estimate of pi\n",
    "        pi_estimate = 4 * total_count / total_points\n",
    "        print(f\"Estimated Pi = {pi_estimate}\")\n",
    "        \n",
    "\n",
    "def main_joblib(processes, total_points):\n",
    "    # Use joblib to parallelize the Monte Carlo simulation across n_jobs processes\n",
    "    results = Parallel(n_jobs=processes)(delayed(monte_carlo_pi_part)(total_points // processes) for _ in range(processes))\n",
    "    \n",
    "    # Combine the results from all processes\n",
    "    total_count = sum(results)\n",
    "    \n",
    "    # Estimate of pi\n",
    "    pi_estimate = 4 * total_count / total_points\n",
    "    print(f\"Estimated Pi = {pi_estimate}\")"
   ]
  },
  {
   "cell_type": "code",
   "execution_count": 2,
   "id": "9ae53b4b-1fba-433c-b8c4-b0cf48123a00",
   "metadata": {
    "execution": {
     "iopub.execute_input": "2024-04-03T12:53:54.413260Z",
     "iopub.status.busy": "2024-04-03T12:53:54.411878Z",
     "iopub.status.idle": "2024-04-03T12:53:54.419211Z",
     "shell.execute_reply": "2024-04-03T12:53:54.418589Z",
     "shell.execute_reply.started": "2024-04-03T12:53:54.413237Z"
    },
    "tags": []
   },
   "outputs": [
    {
     "data": {
      "text/plain": [
       "4"
      ]
     },
     "execution_count": 2,
     "metadata": {},
     "output_type": "execute_result"
    }
   ],
   "source": [
    "multiprocessing.cpu_count()"
   ]
  },
  {
   "cell_type": "code",
   "execution_count": 3,
   "id": "f4202bf3-10ac-4dc4-9e3b-88431ad39ac7",
   "metadata": {
    "execution": {
     "iopub.execute_input": "2024-04-03T12:53:54.420306Z",
     "iopub.status.busy": "2024-04-03T12:53:54.420086Z",
     "iopub.status.idle": "2024-04-03T12:53:54.423930Z",
     "shell.execute_reply": "2024-04-03T12:53:54.423132Z",
     "shell.execute_reply.started": "2024-04-03T12:53:54.420287Z"
    },
    "tags": []
   },
   "outputs": [],
   "source": [
    "PROCESSES = multiprocessing.cpu_count() # Number of processes to use\n",
    "TOTAL_POINTS = 10_000_000 # Total number of points to generate"
   ]
  },
  {
   "cell_type": "code",
   "execution_count": 4,
   "id": "2bcde30a-2e19-4ac9-931d-d4b041ecaef5",
   "metadata": {
    "execution": {
     "iopub.execute_input": "2024-04-03T12:53:54.425219Z",
     "iopub.status.busy": "2024-04-03T12:53:54.424875Z",
     "iopub.status.idle": "2024-04-03T12:54:22.768484Z",
     "shell.execute_reply": "2024-04-03T12:54:22.767592Z",
     "shell.execute_reply.started": "2024-04-03T12:53:54.425191Z"
    },
    "tags": []
   },
   "outputs": [
    {
     "name": "stdout",
     "output_type": "stream",
     "text": [
      "Estimated Pi = 3.141016\n",
      "Estimated Pi = 3.1426616\n",
      "Estimated Pi = 3.1411588\n",
      "Estimated Pi = 3.1412756\n",
      "Estimated Pi = 3.1414144\n",
      "Estimated Pi = 3.1422808\n",
      "Estimated Pi = 3.1417344\n",
      "Estimated Pi = 3.1402864\n",
      "3.53 s ± 22.4 ms per loop (mean ± std. dev. of 7 runs, 1 loop each)\n"
     ]
    }
   ],
   "source": [
    "%%timeit\n",
    "\n",
    "main(TOTAL_POINTS)"
   ]
  },
  {
   "cell_type": "code",
   "execution_count": 5,
   "id": "fefa23c6-ec57-4754-a646-b07981c20565",
   "metadata": {
    "execution": {
     "iopub.execute_input": "2024-04-03T12:54:22.769978Z",
     "iopub.status.busy": "2024-04-03T12:54:22.769577Z",
     "iopub.status.idle": "2024-04-03T12:54:37.145502Z",
     "shell.execute_reply": "2024-04-03T12:54:37.144686Z",
     "shell.execute_reply.started": "2024-04-03T12:54:22.769946Z"
    },
    "tags": []
   },
   "outputs": [
    {
     "name": "stdout",
     "output_type": "stream",
     "text": [
      "Estimated Pi = 3.1419708\n",
      "Estimated Pi = 3.1416924\n",
      "Estimated Pi = 3.1422224\n",
      "Estimated Pi = 3.1416016\n",
      "Estimated Pi = 3.141178\n",
      "Estimated Pi = 3.1409372\n",
      "Estimated Pi = 3.141686\n",
      "Estimated Pi = 3.1415552\n",
      "1.8 s ± 16.9 ms per loop (mean ± std. dev. of 7 runs, 1 loop each)\n"
     ]
    }
   ],
   "source": [
    "%%timeit\n",
    "\n",
    "main_multi_process(PROCESSES, TOTAL_POINTS)"
   ]
  },
  {
   "cell_type": "code",
   "execution_count": 6,
   "id": "e1f81e0a-86d4-4a94-9446-63b853bcec4b",
   "metadata": {
    "execution": {
     "iopub.execute_input": "2024-04-03T12:54:37.146968Z",
     "iopub.status.busy": "2024-04-03T12:54:37.146663Z",
     "iopub.status.idle": "2024-04-03T12:54:52.373333Z",
     "shell.execute_reply": "2024-04-03T12:54:52.372453Z",
     "shell.execute_reply.started": "2024-04-03T12:54:37.146946Z"
    },
    "tags": []
   },
   "outputs": [
    {
     "name": "stdout",
     "output_type": "stream",
     "text": [
      "Estimated Pi = 3.1420292\n",
      "Estimated Pi = 3.1409736\n",
      "Estimated Pi = 3.1418224\n",
      "Estimated Pi = 3.140754\n",
      "Estimated Pi = 3.1419864\n",
      "Estimated Pi = 3.1419228\n",
      "Estimated Pi = 3.1407304\n",
      "Estimated Pi = 3.1416512\n",
      "1.79 s ± 18.2 ms per loop (mean ± std. dev. of 7 runs, 1 loop each)\n"
     ]
    }
   ],
   "source": [
    "%%timeit\n",
    "\n",
    "main_joblib(PROCESSES, TOTAL_POINTS)"
   ]
  },
  {
   "cell_type": "code",
   "execution_count": null,
   "id": "5c43c903-47fa-421a-9a39-bbf79935f983",
   "metadata": {},
   "outputs": [],
   "source": []
  }
 ],
 "metadata": {
  "kernelspec": {
   "display_name": "saturn (Python 3)",
   "language": "python",
   "name": "python3"
  },
  "language_info": {
   "codemirror_mode": {
    "name": "ipython",
    "version": 3
   },
   "file_extension": ".py",
   "mimetype": "text/x-python",
   "name": "python",
   "nbconvert_exporter": "python",
   "pygments_lexer": "ipython3",
   "version": "3.8.18"
  }
 },
 "nbformat": 4,
 "nbformat_minor": 5
}
