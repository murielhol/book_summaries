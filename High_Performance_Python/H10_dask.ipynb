{
 "cells": [
  {
   "cell_type": "markdown",
   "id": "e5594461-296c-4151-b7f1-f296cf634c3c",
   "metadata": {},
   "source": [
    "# Dask\n",
    "\n",
    "**Bag**: Parallelize compute on unstructured data (json, text files, objects).\n",
    "\n",
    "**Array**: For larger-then-RAM numpy arrays.\n",
    "\n",
    "**DataFrame**: For larger-then-RAM pandas dataframes.\n",
    "\n",
    "**Delayer**: ParallelizeParallelize chains of operations.\n",
    "\n",
    "**Dask-ML**: Scikit-learn-like interface."
   ]
  },
  {
   "cell_type": "markdown",
   "id": "9518bcaf-b6b7-4034-8d02-de07ce58da60",
   "metadata": {},
   "source": [
    "## Note on choosing a scheduler\n",
    "\n",
    "**Choose scheduler=\"processes\" in scenarios where your computations are CPU-bound** and can benefit from parallel execution across multiple CPU cores. **The default scheduler for Dask is the threaded scheduler (scheduler=\"threads\"), which is generally efficient for I/O bound tasks** and operations that release the Global Interpreter Lock (GIL), but it might not always be the best choice for CPU-bound tasks due to Python's GIL, which prevents multiple threads from executing Python bytecodes at once."
   ]
  },
  {
   "cell_type": "code",
   "execution_count": 1,
   "id": "07faf73e-b49f-40ef-8314-543cdd3f66d8",
   "metadata": {
    "execution": {
     "iopub.execute_input": "2024-04-03T12:01:30.515880Z",
     "iopub.status.busy": "2024-04-03T12:01:30.515585Z",
     "iopub.status.idle": "2024-04-03T12:01:31.166002Z",
     "shell.execute_reply": "2024-04-03T12:01:31.165338Z",
     "shell.execute_reply.started": "2024-04-03T12:01:30.515859Z"
    },
    "tags": []
   },
   "outputs": [],
   "source": [
    "import dask.dataframe as dd\n",
    "import pandas as pd\n",
    "import numpy as np\n",
    "\n",
    "# Create a large pandas dataframe\n",
    "df = pd.DataFrame({\n",
    "    'x': np.random.rand(1000), \n",
    "    'y': np.random.rand(1000),\n",
    "})\n",
    "\n",
    "# Convert the pandas dataframe to a dask dataframe\n",
    "ddf = dd.from_pandas(df, npartitions=20)\n"
   ]
  },
  {
   "cell_type": "code",
   "execution_count": 2,
   "id": "75d0e5d7-594f-42f6-be27-b87356176f88",
   "metadata": {
    "execution": {
     "iopub.execute_input": "2024-04-03T12:01:31.167714Z",
     "iopub.status.busy": "2024-04-03T12:01:31.167393Z",
     "iopub.status.idle": "2024-04-03T12:01:31.171801Z",
     "shell.execute_reply": "2024-04-03T12:01:31.171004Z",
     "shell.execute_reply.started": "2024-04-03T12:01:31.167688Z"
    },
    "tags": []
   },
   "outputs": [],
   "source": [
    "def complex_computation(row):\n",
    "    # Simulate a CPU-intensive task\n",
    "    result = 0\n",
    "    for _ in range(1000):\n",
    "        result += np.sin(row['x']) + np.cos(row['y'])\n",
    "    return result"
   ]
  },
  {
   "cell_type": "code",
   "execution_count": 3,
   "id": "b963a560-b8a0-41b6-b62c-0c632b985845",
   "metadata": {
    "execution": {
     "iopub.execute_input": "2024-04-03T12:01:31.173157Z",
     "iopub.status.busy": "2024-04-03T12:01:31.172825Z",
     "iopub.status.idle": "2024-04-03T12:01:44.414963Z",
     "shell.execute_reply": "2024-04-03T12:01:44.414138Z",
     "shell.execute_reply.started": "2024-04-03T12:01:31.173136Z"
    },
    "tags": []
   },
   "outputs": [
    {
     "name": "stdout",
     "output_type": "stream",
     "text": [
      "Time with the default (threaded) scheduler: 7.970299243927002 seconds\n",
      "Time with the 'processes' scheduler: 5.263658285140991 seconds\n"
     ]
    }
   ],
   "source": [
    "import time\n",
    "\n",
    "# Apply the function with the default scheduler\n",
    "start_time = time.time()\n",
    "result_threaded = ddf.apply(lambda row: complex_computation(row), axis=1, meta=('x', 'float')).compute()\n",
    "end_time = time.time()\n",
    "print(f\"Time with the default (threaded) scheduler: {end_time - start_time} seconds\")\n",
    "\n",
    "# Apply the function with the multiprocessing scheduler\n",
    "start_time = time.time()\n",
    "result_processes = ddf.apply(lambda row: complex_computation(row), axis=1, meta=('x', 'float')).compute(scheduler='processes')\n",
    "end_time = time.time()\n",
    "print(f\"Time with the 'processes' scheduler: {end_time - start_time} seconds\")"
   ]
  }
 ],
 "metadata": {
  "kernelspec": {
   "display_name": "saturn (Python 3)",
   "language": "python",
   "name": "python3"
  },
  "language_info": {
   "codemirror_mode": {
    "name": "ipython",
    "version": 3
   },
   "file_extension": ".py",
   "mimetype": "text/x-python",
   "name": "python",
   "nbconvert_exporter": "python",
   "pygments_lexer": "ipython3",
   "version": "3.8.18"
  }
 },
 "nbformat": 4,
 "nbformat_minor": 5
}
