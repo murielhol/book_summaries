{
 "cells": [
  {
   "cell_type": "markdown",
   "id": "d4d536af-f4de-4f81-8296-8c6d9fa3d4dd",
   "metadata": {},
   "source": [
    "# Numexpr \n",
    "\n",
    "Helps with using less RAM when performing large numpy are pandas calculations. "
   ]
  },
  {
   "cell_type": "code",
   "execution_count": 2,
   "id": "7628adc6-6d2b-4c8d-a9a4-e8a82673daa7",
   "metadata": {
    "execution": {
     "iopub.execute_input": "2024-04-03T10:21:02.193698Z",
     "iopub.status.busy": "2024-04-03T10:21:02.193315Z",
     "iopub.status.idle": "2024-04-03T10:21:02.550702Z",
     "shell.execute_reply": "2024-04-03T10:21:02.549864Z",
     "shell.execute_reply.started": "2024-04-03T10:21:02.193660Z"
    },
    "tags": []
   },
   "outputs": [],
   "source": [
    "import numpy as np\n",
    "import pandas as pd\n",
    "import numexpr"
   ]
  },
  {
   "cell_type": "code",
   "execution_count": 3,
   "id": "f3a37e32-1468-4200-b22d-1d9a9406ceae",
   "metadata": {
    "execution": {
     "iopub.execute_input": "2024-04-03T10:21:02.552406Z",
     "iopub.status.busy": "2024-04-03T10:21:02.551997Z",
     "iopub.status.idle": "2024-04-03T10:21:02.772159Z",
     "shell.execute_reply": "2024-04-03T10:21:02.771451Z",
     "shell.execute_reply.started": "2024-04-03T10:21:02.552344Z"
    },
    "tags": []
   },
   "outputs": [],
   "source": [
    "%load_ext memory_profiler"
   ]
  },
  {
   "cell_type": "code",
   "execution_count": 4,
   "id": "9def7a7f-37c2-4319-a0cc-a99b80922196",
   "metadata": {
    "execution": {
     "iopub.execute_input": "2024-04-03T10:21:02.773905Z",
     "iopub.status.busy": "2024-04-03T10:21:02.773482Z",
     "iopub.status.idle": "2024-04-03T10:21:02.778538Z",
     "shell.execute_reply": "2024-04-03T10:21:02.777177Z",
     "shell.execute_reply.started": "2024-04-03T10:21:02.773873Z"
    },
    "tags": []
   },
   "outputs": [],
   "source": [
    "N = 20_000_000"
   ]
  },
  {
   "cell_type": "markdown",
   "id": "caa5ce2d-ab74-4b51-831e-b793816fac84",
   "metadata": {},
   "source": [
    "# Numpy"
   ]
  },
  {
   "cell_type": "code",
   "execution_count": 5,
   "id": "69f9803c-3753-4bfc-a089-010117744d3d",
   "metadata": {
    "execution": {
     "iopub.execute_input": "2024-04-03T10:21:02.780689Z",
     "iopub.status.busy": "2024-04-03T10:21:02.780010Z",
     "iopub.status.idle": "2024-04-03T10:21:03.007342Z",
     "shell.execute_reply": "2024-04-03T10:21:03.006561Z",
     "shell.execute_reply.started": "2024-04-03T10:21:02.780659Z"
    },
    "tags": []
   },
   "outputs": [],
   "source": [
    "yp = np.random.uniform(low=0.0001, size=N)\n",
    "yt = np.ones(shape=N)"
   ]
  },
  {
   "cell_type": "code",
   "execution_count": 6,
   "id": "67fde2fb-26f9-4532-be34-4f4cd4ea05dd",
   "metadata": {
    "execution": {
     "iopub.execute_input": "2024-04-03T10:21:03.009136Z",
     "iopub.status.busy": "2024-04-03T10:21:03.008789Z",
     "iopub.status.idle": "2024-04-03T10:21:03.182179Z",
     "shell.execute_reply": "2024-04-03T10:21:03.180695Z",
     "shell.execute_reply.started": "2024-04-03T10:21:03.009106Z"
    },
    "tags": []
   },
   "outputs": [
    {
     "name": "stdout",
     "output_type": "stream",
     "text": [
      "peak memory: 429.97 MiB, increment: 0.25 MiB\n"
     ]
    }
   ],
   "source": [
    "%memit "
   ]
  },
  {
   "cell_type": "code",
   "execution_count": 7,
   "id": "8aa2efc2-37c2-4555-835f-de70bc012817",
   "metadata": {
    "execution": {
     "iopub.execute_input": "2024-04-03T10:21:03.185995Z",
     "iopub.status.busy": "2024-04-03T10:21:03.185573Z",
     "iopub.status.idle": "2024-04-03T10:21:03.191575Z",
     "shell.execute_reply": "2024-04-03T10:21:03.190759Z",
     "shell.execute_reply.started": "2024-04-03T10:21:03.185961Z"
    },
    "tags": []
   },
   "outputs": [],
   "source": [
    "cross_entropy = lambda yp, yt: -( yp * np.log(yp) + (1-yt) * np.log(1-yp) )"
   ]
  },
  {
   "cell_type": "code",
   "execution_count": 8,
   "id": "d25c919e-85bf-4421-a34b-00a8ec0435e1",
   "metadata": {
    "execution": {
     "iopub.execute_input": "2024-04-03T10:21:03.193324Z",
     "iopub.status.busy": "2024-04-03T10:21:03.192904Z",
     "iopub.status.idle": "2024-04-03T10:21:03.788309Z",
     "shell.execute_reply": "2024-04-03T10:21:03.786815Z",
     "shell.execute_reply.started": "2024-04-03T10:21:03.193289Z"
    },
    "tags": []
   },
   "outputs": [
    {
     "name": "stdout",
     "output_type": "stream",
     "text": [
      "peak memory: 965.11 MiB, increment: 535.08 MiB\n"
     ]
    }
   ],
   "source": [
    "%memit cross_entropy(yp, yt)"
   ]
  },
  {
   "cell_type": "code",
   "execution_count": 10,
   "id": "0072873d-316e-4655-82fd-c3b27c64da43",
   "metadata": {
    "execution": {
     "iopub.execute_input": "2024-04-03T10:24:05.994297Z",
     "iopub.status.busy": "2024-04-03T10:24:05.993924Z",
     "iopub.status.idle": "2024-04-03T10:24:06.548050Z",
     "shell.execute_reply": "2024-04-03T10:24:06.546989Z",
     "shell.execute_reply.started": "2024-04-03T10:24:05.994267Z"
    },
    "tags": []
   },
   "outputs": [
    {
     "name": "stdout",
     "output_type": "stream",
     "text": [
      "peak memory: 549.52 MiB, increment: 118.01 MiB\n"
     ]
    }
   ],
   "source": [
    "%memit numexpr.evaluate(\"-( yp * log(yp) + (1-yt) * log(1-yp) )\")"
   ]
  },
  {
   "cell_type": "markdown",
   "id": "e94c1873-82ec-4bac-b739-159a11689541",
   "metadata": {},
   "source": [
    "# Pandas"
   ]
  },
  {
   "cell_type": "code",
   "execution_count": 12,
   "id": "2299ef11-a88e-4b81-8d9a-e406f7597302",
   "metadata": {
    "execution": {
     "iopub.execute_input": "2024-04-03T10:29:11.187003Z",
     "iopub.status.busy": "2024-04-03T10:29:11.186637Z",
     "iopub.status.idle": "2024-04-03T10:29:11.301931Z",
     "shell.execute_reply": "2024-04-03T10:29:11.301104Z",
     "shell.execute_reply.started": "2024-04-03T10:29:11.186979Z"
    },
    "tags": []
   },
   "outputs": [],
   "source": [
    "df = pd.DataFrame(\n",
    "        {\n",
    "        \"yp\": yp,\n",
    "        \"yt\": yt\n",
    "        }\n",
    ")"
   ]
  },
  {
   "cell_type": "code",
   "execution_count": 17,
   "id": "bb0fc3a0-b753-409d-a95e-f2eae59bf738",
   "metadata": {
    "execution": {
     "iopub.execute_input": "2024-04-03T10:32:06.306553Z",
     "iopub.status.busy": "2024-04-03T10:32:06.306176Z",
     "iopub.status.idle": "2024-04-03T10:32:07.023927Z",
     "shell.execute_reply": "2024-04-03T10:32:07.023088Z",
     "shell.execute_reply.started": "2024-04-03T10:32:06.306525Z"
    },
    "tags": []
   },
   "outputs": [
    {
     "name": "stdout",
     "output_type": "stream",
     "text": [
      "peak memory: 1227.27 MiB, increment: 488.79 MiB\n"
     ]
    }
   ],
   "source": [
    "%memit cross_entropy(df[\"yp\"], df[\"yt\"])"
   ]
  },
  {
   "cell_type": "code",
   "execution_count": 19,
   "id": "021c4191-647d-4942-82db-7527b31f9740",
   "metadata": {
    "execution": {
     "iopub.execute_input": "2024-04-03T10:32:37.922594Z",
     "iopub.status.busy": "2024-04-03T10:32:37.922203Z",
     "iopub.status.idle": "2024-04-03T10:32:38.659841Z",
     "shell.execute_reply": "2024-04-03T10:32:38.658954Z",
     "shell.execute_reply.started": "2024-04-03T10:32:37.922566Z"
    },
    "tags": []
   },
   "outputs": [
    {
     "name": "stdout",
     "output_type": "stream",
     "text": [
      "peak memory: 1327.57 MiB, increment: 589.06 MiB\n"
     ]
    }
   ],
   "source": [
    "%memit df.eval(\"-( yp * log(yp) + (1-yt) * log(1-yp) )\")"
   ]
  },
  {
   "cell_type": "code",
   "execution_count": null,
   "id": "d959cc84-010a-42f3-97d3-19c5d21cf44e",
   "metadata": {},
   "outputs": [],
   "source": []
  }
 ],
 "metadata": {
  "kernelspec": {
   "display_name": "saturn (Python 3)",
   "language": "python",
   "name": "python3"
  },
  "language_info": {
   "codemirror_mode": {
    "name": "ipython",
    "version": 3
   },
   "file_extension": ".py",
   "mimetype": "text/x-python",
   "name": "python",
   "nbconvert_exporter": "python",
   "pygments_lexer": "ipython3",
   "version": "3.8.18"
  }
 },
 "nbformat": 4,
 "nbformat_minor": 5
}
