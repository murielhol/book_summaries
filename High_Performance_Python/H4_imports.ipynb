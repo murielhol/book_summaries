{
 "cells": [
  {
   "cell_type": "markdown",
   "id": "93decbd6-7ebc-4cce-a5f1-98199e4d143e",
   "metadata": {},
   "source": [
    "# Being smart about imports"
   ]
  },
  {
   "cell_type": "markdown",
   "id": "c953edb1-3aca-4c06-ab20-7a1fb39c9c6d",
   "metadata": {},
   "source": [
    "When possible, import the specific submodules that you will use, instead of the parent module. \n",
    "For example, if you only use the datetime.timedelta, dont import datetime entirely.\n",
    "This can add up when it is called a lot of times. "
   ]
  },
  {
   "cell_type": "code",
   "execution_count": 1,
   "id": "be4c326f-fc24-4d15-9aa3-5045722b608e",
   "metadata": {
    "execution": {
     "iopub.execute_input": "2024-04-03T12:04:02.108725Z",
     "iopub.status.busy": "2024-04-03T12:04:02.108209Z",
     "iopub.status.idle": "2024-04-03T12:04:02.117577Z",
     "shell.execute_reply": "2024-04-03T12:04:02.116946Z",
     "shell.execute_reply.started": "2024-04-03T12:04:02.108692Z"
    },
    "tags": []
   },
   "outputs": [],
   "source": [
    "# inspect the bytecode using dis\n",
    "# more bytecode often means longer runtime\n",
    "import dis\n"
   ]
  },
  {
   "cell_type": "code",
   "execution_count": 2,
   "id": "7a6893e0-1d8e-4e0f-8b3d-7f2be306caff",
   "metadata": {
    "execution": {
     "iopub.execute_input": "2024-04-03T12:04:02.119308Z",
     "iopub.status.busy": "2024-04-03T12:04:02.119018Z",
     "iopub.status.idle": "2024-04-03T12:04:02.123245Z",
     "shell.execute_reply": "2024-04-03T12:04:02.122647Z",
     "shell.execute_reply.started": "2024-04-03T12:04:02.119289Z"
    },
    "tags": []
   },
   "outputs": [],
   "source": [
    "import datetime\n",
    "\n",
    "def inefficient_datetime_usage():\n",
    "    return datetime.datetime(year=2023, month=1, day=1) + datetime.timedelta(days=10)\n"
   ]
  },
  {
   "cell_type": "code",
   "execution_count": 3,
   "id": "124f16ba-0f34-4c07-bfd5-cfa719b2d4c4",
   "metadata": {
    "execution": {
     "iopub.execute_input": "2024-04-03T12:04:02.124671Z",
     "iopub.status.busy": "2024-04-03T12:04:02.124281Z",
     "iopub.status.idle": "2024-04-03T12:04:02.129973Z",
     "shell.execute_reply": "2024-04-03T12:04:02.129330Z",
     "shell.execute_reply.started": "2024-04-03T12:04:02.124642Z"
    },
    "tags": []
   },
   "outputs": [
    {
     "name": "stdout",
     "output_type": "stream",
     "text": [
      "  4           0 LOAD_GLOBAL              0 (datetime)\n",
      "              2 LOAD_ATTR                0 (datetime)\n",
      "              4 LOAD_CONST               1 (2023)\n",
      "              6 LOAD_CONST               2 (1)\n",
      "              8 LOAD_CONST               2 (1)\n",
      "             10 LOAD_CONST               3 (('year', 'month', 'day'))\n",
      "             12 CALL_FUNCTION_KW         3\n",
      "             14 LOAD_GLOBAL              0 (datetime)\n",
      "             16 LOAD_ATTR                1 (timedelta)\n",
      "             18 LOAD_CONST               4 (10)\n",
      "             20 LOAD_CONST               5 (('days',))\n",
      "             22 CALL_FUNCTION_KW         1\n",
      "             24 BINARY_ADD\n",
      "             26 RETURN_VALUE\n"
     ]
    }
   ],
   "source": [
    "dis.dis(inefficient_datetime_usage)"
   ]
  },
  {
   "cell_type": "code",
   "execution_count": 4,
   "id": "005e6842-bc05-4a38-a8b1-94ce5d12b6f0",
   "metadata": {
    "execution": {
     "iopub.execute_input": "2024-04-03T12:04:02.131345Z",
     "iopub.status.busy": "2024-04-03T12:04:02.130985Z",
     "iopub.status.idle": "2024-04-03T12:04:02.136442Z",
     "shell.execute_reply": "2024-04-03T12:04:02.135804Z",
     "shell.execute_reply.started": "2024-04-03T12:04:02.131314Z"
    },
    "tags": []
   },
   "outputs": [],
   "source": [
    "from datetime import timedelta, datetime\n",
    "\n",
    "\n",
    "def efficient_datetime_usage():\n",
    "    return datetime(year=2023, month=1, day=1) + timedelta(days=10)"
   ]
  },
  {
   "cell_type": "code",
   "execution_count": 5,
   "id": "d1bcf88f-3a33-4c5d-aee0-bd91c9d1301f",
   "metadata": {
    "execution": {
     "iopub.execute_input": "2024-04-03T12:04:02.137833Z",
     "iopub.status.busy": "2024-04-03T12:04:02.137480Z",
     "iopub.status.idle": "2024-04-03T12:04:02.142753Z",
     "shell.execute_reply": "2024-04-03T12:04:02.142106Z",
     "shell.execute_reply.started": "2024-04-03T12:04:02.137804Z"
    },
    "tags": []
   },
   "outputs": [
    {
     "name": "stdout",
     "output_type": "stream",
     "text": [
      "  5           0 LOAD_GLOBAL              0 (datetime)\n",
      "              2 LOAD_CONST               1 (2023)\n",
      "              4 LOAD_CONST               2 (1)\n",
      "              6 LOAD_CONST               2 (1)\n",
      "              8 LOAD_CONST               3 (('year', 'month', 'day'))\n",
      "             10 CALL_FUNCTION_KW         3\n",
      "             12 LOAD_GLOBAL              1 (timedelta)\n",
      "             14 LOAD_CONST               4 (10)\n",
      "             16 LOAD_CONST               5 (('days',))\n",
      "             18 CALL_FUNCTION_KW         1\n",
      "             20 BINARY_ADD\n",
      "             22 RETURN_VALUE\n"
     ]
    }
   ],
   "source": [
    "dis.dis(efficient_datetime_usage)"
   ]
  },
  {
   "cell_type": "code",
   "execution_count": 6,
   "id": "a8b57b0e-cffb-4a66-986a-b5cd016c9b9f",
   "metadata": {
    "execution": {
     "iopub.execute_input": "2024-04-03T12:04:02.143893Z",
     "iopub.status.busy": "2024-04-03T12:04:02.143590Z",
     "iopub.status.idle": "2024-04-03T12:04:04.057054Z",
     "shell.execute_reply": "2024-04-03T12:04:04.056237Z",
     "shell.execute_reply.started": "2024-04-03T12:04:02.143874Z"
    },
    "tags": []
   },
   "outputs": [
    {
     "name": "stdout",
     "output_type": "stream",
     "text": [
      "23.5 ns ± 0.193 ns per loop (mean ± std. dev. of 7 runs, 10000000 loops each)\n"
     ]
    }
   ],
   "source": [
    "%timeit inefficient_datetime_usage"
   ]
  },
  {
   "cell_type": "code",
   "execution_count": 7,
   "id": "eae808ab-4a0a-47a7-85e9-39bfbff92910",
   "metadata": {
    "execution": {
     "iopub.execute_input": "2024-04-03T12:04:04.058959Z",
     "iopub.status.busy": "2024-04-03T12:04:04.058655Z",
     "iopub.status.idle": "2024-04-03T12:04:19.857982Z",
     "shell.execute_reply": "2024-04-03T12:04:19.857198Z",
     "shell.execute_reply.started": "2024-04-03T12:04:04.058939Z"
    },
    "tags": []
   },
   "outputs": [
    {
     "name": "stdout",
     "output_type": "stream",
     "text": [
      "19.5 ns ± 0.116 ns per loop (mean ± std. dev. of 7 runs, 100000000 loops each)\n"
     ]
    }
   ],
   "source": [
    "%timeit efficient_datetime_usage"
   ]
  },
  {
   "cell_type": "code",
   "execution_count": null,
   "id": "2d9e25fc-e652-4cc4-8fed-e7c6691c9322",
   "metadata": {},
   "outputs": [],
   "source": []
  }
 ],
 "metadata": {
  "kernelspec": {
   "display_name": "saturn (Python 3)",
   "language": "python",
   "name": "python3"
  },
  "language_info": {
   "codemirror_mode": {
    "name": "ipython",
    "version": 3
   },
   "file_extension": ".py",
   "mimetype": "text/x-python",
   "name": "python",
   "nbconvert_exporter": "python",
   "pygments_lexer": "ipython3",
   "version": "3.8.18"
  }
 },
 "nbformat": 4,
 "nbformat_minor": 5
}
