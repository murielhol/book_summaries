{
 "cells": [
  {
   "cell_type": "markdown",
   "id": "b9e5e07b-941d-487a-ae74-eab38c1e5bbf",
   "metadata": {},
   "source": [
    "# Asynchronous compute\n",
    "\n",
    "A solution for **I/O bound programs**"
   ]
  },
  {
   "cell_type": "markdown",
   "id": "72b83fe8-9306-47c5-ace6-b4e3816115ef",
   "metadata": {},
   "source": [
    "**Asyncronous I/O**: perform other operations while you wait on data to be loaded\n",
    "\n",
    "\n",
    "**Concurrency**: everything still happens in a single tread, unlike multiprocessing. This makes the code easier to write as it all still shares the same memory. \n",
    "\n",
    "\n",
    "**Coroutines**: are async functions. They return **Futures:** this is a promise, to return a certain object."
   ]
  },
  {
   "cell_type": "code",
   "execution_count": 1,
   "id": "04397b15-d7af-42f2-a8e1-ebddfdfcb97f",
   "metadata": {
    "execution": {
     "iopub.execute_input": "2024-04-03T12:10:19.618403Z",
     "iopub.status.busy": "2024-04-03T12:10:19.617979Z",
     "iopub.status.idle": "2024-04-03T12:10:19.626360Z",
     "shell.execute_reply": "2024-04-03T12:10:19.625684Z",
     "shell.execute_reply.started": "2024-04-03T12:10:19.618380Z"
    },
    "tags": []
   },
   "outputs": [],
   "source": [
    "import asyncio\n",
    "import time\n",
    "\n",
    "def sleep():\n",
    "    time.sleep(1)\n",
    "    \n",
    "async def async_sleep():\n",
    "    await asyncio.sleep(1)\n",
    "    \n",
    "def mysum(name, numbers):\n",
    "    total = 0\n",
    "    for number in numbers:\n",
    "        sleep()\n",
    "        total += number\n",
    "    print(f'Task: {name} Sum = {total}\\n')\n",
    "\n",
    "\n",
    "async def async_mysum(name, numbers):\n",
    "    total = 0\n",
    "    for number in numbers:\n",
    "        await async_sleep()\n",
    "        total += number\n",
    "    print(f'Task: {name} Sum = {total}\\n')\n"
   ]
  },
  {
   "cell_type": "code",
   "execution_count": 2,
   "id": "e7003965-0e19-40cd-b86a-6db890729fe2",
   "metadata": {
    "execution": {
     "iopub.execute_input": "2024-04-03T12:10:19.628370Z",
     "iopub.status.busy": "2024-04-03T12:10:19.628040Z",
     "iopub.status.idle": "2024-04-03T12:11:24.697832Z",
     "shell.execute_reply": "2024-04-03T12:11:24.697173Z",
     "shell.execute_reply.started": "2024-04-03T12:10:19.628342Z"
    }
   },
   "outputs": [
    {
     "name": "stdout",
     "output_type": "stream",
     "text": [
      "Task: A Sum = 45\n",
      "\n",
      "Task: B Sum = 105\n",
      "\n",
      "Task: C Sum = 190\n",
      "\n",
      "Time without async: 45.04233193397522 seconds\n",
      "Task: A Sum = 45\n",
      "\n",
      "Task: B Sum = 105\n",
      "\n",
      "Task: C Sum = 190\n",
      "\n",
      "Time with async 20.021308183670044 seconds\n"
     ]
    }
   ],
   "source": [
    "import time\n",
    "\n",
    "start_time = time.time()\n",
    "tasks = [\n",
    "    mysum(\"A\", list(range(10))),\n",
    "    mysum(\"B\", list(range(15))),\n",
    "    mysum(\"C\", list(range(20))),\n",
    "\n",
    "]\n",
    "end_time = time.time()\n",
    "print(f\"Time without async: {end_time - start_time} seconds\")\n",
    "\n",
    "\n",
    "start_time = time.time()\n",
    "await asyncio.gather(\n",
    "        async_mysum(\"A\", list(range(10))),\n",
    "        async_mysum(\"B\", list(range(15))),\n",
    "        async_mysum(\"C\", list(range(20)))\n",
    "    )\n",
    "end_time = time.time()\n",
    "print(f\"Time with async {end_time - start_time} seconds\")"
   ]
  },
  {
   "cell_type": "code",
   "execution_count": null,
   "id": "33abef3e-1b8c-4dad-a4d5-17b2b2e3795e",
   "metadata": {},
   "outputs": [],
   "source": []
  }
 ],
 "metadata": {
  "kernelspec": {
   "display_name": "saturn (Python 3)",
   "language": "python",
   "name": "python3"
  },
  "language_info": {
   "codemirror_mode": {
    "name": "ipython",
    "version": 3
   },
   "file_extension": ".py",
   "mimetype": "text/x-python",
   "name": "python",
   "nbconvert_exporter": "python",
   "pygments_lexer": "ipython3",
   "version": "3.8.18"
  }
 },
 "nbformat": 4,
 "nbformat_minor": 5
}
