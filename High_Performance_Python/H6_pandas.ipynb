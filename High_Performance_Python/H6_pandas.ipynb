{
 "cells": [
  {
   "cell_type": "markdown",
   "id": "e9090793-4c8a-466c-ae18-07f5f54068fa",
   "metadata": {},
   "source": [
    "# Pandas\n",
    "\n",
    "Pandas performs in memory computation, and often stores copies during calculations. \n",
    "Rule of thumb: pandas works well for datasets under 10GB\n",
    "\n"
   ]
  },
  {
   "cell_type": "code",
   "execution_count": 1,
   "id": "06dfc523-ae89-4340-9b57-996ccf4799b7",
   "metadata": {
    "execution": {
     "iopub.execute_input": "2024-04-03T13:48:46.543561Z",
     "iopub.status.busy": "2024-04-03T13:48:46.543378Z",
     "iopub.status.idle": "2024-04-03T13:48:46.869391Z",
     "shell.execute_reply": "2024-04-03T13:48:46.868769Z",
     "shell.execute_reply.started": "2024-04-03T13:48:46.543543Z"
    },
    "tags": []
   },
   "outputs": [],
   "source": [
    "import pandas as pd"
   ]
  },
  {
   "cell_type": "markdown",
   "id": "63223f08-e5df-4e74-bcb6-ee9e29bfadff",
   "metadata": {},
   "source": [
    "# row wise operations\n",
    "worst to best:"
   ]
  },
  {
   "cell_type": "code",
   "execution_count": 2,
   "id": "c7dc89a8-7804-4b65-99e4-b674dde8a0c1",
   "metadata": {
    "execution": {
     "iopub.execute_input": "2024-04-03T13:48:46.871190Z",
     "iopub.status.busy": "2024-04-03T13:48:46.870837Z",
     "iopub.status.idle": "2024-04-03T13:48:46.876501Z",
     "shell.execute_reply": "2024-04-03T13:48:46.875710Z",
     "shell.execute_reply.started": "2024-04-03T13:48:46.871170Z"
    },
    "tags": []
   },
   "outputs": [],
   "source": [
    "df = pd.DataFrame({\"a\": list(range(1000)),\n",
    "                    \"b\": list(range(1000)),\n",
    "                    \"c\": list(range(1000))\n",
    "                    })\n"
   ]
  },
  {
   "cell_type": "code",
   "execution_count": 3,
   "id": "ea81a393-62f7-4245-bd0c-4d58d91380a0",
   "metadata": {
    "execution": {
     "iopub.execute_input": "2024-04-03T13:48:46.877623Z",
     "iopub.status.busy": "2024-04-03T13:48:46.877355Z",
     "iopub.status.idle": "2024-04-03T13:48:48.523892Z",
     "shell.execute_reply": "2024-04-03T13:48:48.523137Z",
     "shell.execute_reply.started": "2024-04-03T13:48:46.877597Z"
    },
    "tags": []
   },
   "outputs": [
    {
     "name": "stdout",
     "output_type": "stream",
     "text": [
      "203 ms ± 4.34 ms per loop (mean ± std. dev. of 7 runs, 1 loop each)\n"
     ]
    }
   ],
   "source": [
    "%%timeit\n",
    "\n",
    "# worst: have to do lookups and \n",
    "# row is a newly constructed series\n",
    "for i in range(len(df)):\n",
    "    row = df.iloc[i] * 2\n",
    "    df.iloc[i] = row"
   ]
  },
  {
   "cell_type": "code",
   "execution_count": 4,
   "id": "447056c3-3259-4918-8398-34b26ae5a028",
   "metadata": {
    "execution": {
     "iopub.execute_input": "2024-04-03T13:48:48.525341Z",
     "iopub.status.busy": "2024-04-03T13:48:48.524930Z",
     "iopub.status.idle": "2024-04-03T13:49:01.873956Z",
     "shell.execute_reply": "2024-04-03T13:49:01.873258Z",
     "shell.execute_reply.started": "2024-04-03T13:48:48.525317Z"
    },
    "tags": []
   },
   "outputs": [
    {
     "name": "stdout",
     "output_type": "stream",
     "text": [
      "165 ms ± 488 µs per loop (mean ± std. dev. of 7 runs, 10 loops each)\n"
     ]
    }
   ],
   "source": [
    "%%timeit\n",
    "\n",
    "# slightly better because no lookups but\n",
    "# row still is a newly constructed series\n",
    "for i, row in df.iterrows():\n",
    "    df.iloc[i] = row * 2"
   ]
  },
  {
   "cell_type": "code",
   "execution_count": 5,
   "id": "d0346e76-f71e-491e-a03e-4e9349f08f1a",
   "metadata": {
    "execution": {
     "iopub.execute_input": "2024-04-03T13:49:01.875254Z",
     "iopub.status.busy": "2024-04-03T13:49:01.874958Z",
     "iopub.status.idle": "2024-04-03T13:49:09.052548Z",
     "shell.execute_reply": "2024-04-03T13:49:09.051806Z",
     "shell.execute_reply.started": "2024-04-03T13:49:01.875232Z"
    },
    "tags": []
   },
   "outputs": [
    {
     "name": "stdout",
     "output_type": "stream",
     "text": [
      "88.5 ms ± 645 µs per loop (mean ± std. dev. of 7 runs, 10 loops each)\n"
     ]
    }
   ],
   "source": [
    "%%timeit\n",
    "\n",
    "# slightly better because no need for\n",
    "# intermediate objects, although it does still \n",
    "# construct a new series under the hood\n",
    "df.apply(lambda row: row * 2, axis=1)"
   ]
  },
  {
   "cell_type": "markdown",
   "id": "69d9b1c8-dfac-4e59-870d-0a38ad23dac1",
   "metadata": {},
   "source": [
    "#### The raw=True flag\n",
    "\n",
    "Use raw=True for numerical operations over DataFrames where pandas Series features are not needed. For operations that rely on pandas-specific features or the index, leave raw at its default (False)."
   ]
  },
  {
   "cell_type": "code",
   "execution_count": 6,
   "id": "6a2f0e0a-df09-4dc1-a4c1-6fc50d9d0a75",
   "metadata": {
    "execution": {
     "iopub.execute_input": "2024-04-03T13:49:09.053823Z",
     "iopub.status.busy": "2024-04-03T13:49:09.053516Z",
     "iopub.status.idle": "2024-04-03T13:49:10.855792Z",
     "shell.execute_reply": "2024-04-03T13:49:10.854804Z",
     "shell.execute_reply.started": "2024-04-03T13:49:09.053802Z"
    },
    "tags": []
   },
   "outputs": [
    {
     "name": "stdout",
     "output_type": "stream",
     "text": [
      "2.21 ms ± 20.6 µs per loop (mean ± std. dev. of 7 runs, 100 loops each)\n"
     ]
    }
   ],
   "source": [
    "%%timeit\n",
    "\n",
    "# raw=true will stop the creation of new series\n",
    "# under the hood and pass the original values\n",
    "df.apply(lambda row: row * 2, axis=1, raw=True)"
   ]
  },
  {
   "cell_type": "markdown",
   "id": "ac21298a-18da-49fd-b710-8c9efbb8b7b2",
   "metadata": {
    "tags": []
   },
   "source": [
    "# Avoid concat like the plague"
   ]
  },
  {
   "cell_type": "code",
   "execution_count": 7,
   "id": "e34f39d1-dd51-4369-9fa6-07caf9406f8a",
   "metadata": {
    "execution": {
     "iopub.execute_input": "2024-04-03T13:49:10.858203Z",
     "iopub.status.busy": "2024-04-03T13:49:10.857908Z",
     "iopub.status.idle": "2024-04-03T13:49:14.816111Z",
     "shell.execute_reply": "2024-04-03T13:49:14.815374Z",
     "shell.execute_reply.started": "2024-04-03T13:49:10.858181Z"
    },
    "tags": []
   },
   "outputs": [
    {
     "name": "stdout",
     "output_type": "stream",
     "text": [
      "48.5 ms ± 336 µs per loop (mean ± std. dev. of 7 runs, 10 loops each)\n"
     ]
    }
   ],
   "source": [
    "%%timeit\n",
    "result = pd.DataFrame({\"a\": [], \"b\": []})\n",
    "for i in range(100):\n",
    "    result = pd.concat([result, pd.DataFrame({\"a\": [i], \"b\": [i]})])"
   ]
  },
  {
   "cell_type": "code",
   "execution_count": 8,
   "id": "defa330a-c6e6-4745-99ba-3436898ceab5",
   "metadata": {
    "execution": {
     "iopub.execute_input": "2024-04-03T13:49:14.817602Z",
     "iopub.status.busy": "2024-04-03T13:49:14.817198Z",
     "iopub.status.idle": "2024-04-03T13:49:17.314651Z",
     "shell.execute_reply": "2024-04-03T13:49:17.313900Z",
     "shell.execute_reply.started": "2024-04-03T13:49:14.817571Z"
    },
    "tags": []
   },
   "outputs": [
    {
     "name": "stdout",
     "output_type": "stream",
     "text": [
      "303 µs ± 10.5 µs per loop (mean ± std. dev. of 7 runs, 1000 loops each)\n"
     ]
    }
   ],
   "source": [
    "%%timeit\n",
    "result = []\n",
    "for i in range(100):\n",
    "    result.append({\"a\": i, \"b\": i})\n",
    "result = pd.DataFrame(result)"
   ]
  },
  {
   "cell_type": "markdown",
   "id": "29bfec1c-9e04-4b6d-8d01-ef96354d02df",
   "metadata": {},
   "source": [
    "# Catagory dtype\n",
    "for large dataframe with catagories with low cardinality (e.g. is_deleted: yes/no, control_type: vfd, dol etc.)\n",
    "change the dtype to catagory. It will speed up operations such as value_counts and group_by"
   ]
  },
  {
   "cell_type": "code",
   "execution_count": 9,
   "id": "2ee79f6d-8ac7-4474-beb9-cbe21141654a",
   "metadata": {
    "execution": {
     "iopub.execute_input": "2024-04-03T13:49:17.316207Z",
     "iopub.status.busy": "2024-04-03T13:49:17.315770Z",
     "iopub.status.idle": "2024-04-03T13:49:17.333883Z",
     "shell.execute_reply": "2024-04-03T13:49:17.333330Z",
     "shell.execute_reply.started": "2024-04-03T13:49:17.316172Z"
    },
    "tags": []
   },
   "outputs": [],
   "source": [
    "import numpy as np\n",
    "df = pd.DataFrame({\"control_type\": np.random.choice([\"VFD\", \"DOL\", \"UNKNOWN\"], 100_000)})"
   ]
  },
  {
   "cell_type": "code",
   "execution_count": 10,
   "id": "4ab73a09-dbbb-4854-ad5a-1cdeedfb31db",
   "metadata": {
    "execution": {
     "iopub.execute_input": "2024-04-03T13:49:17.334939Z",
     "iopub.status.busy": "2024-04-03T13:49:17.334709Z",
     "iopub.status.idle": "2024-04-03T13:49:17.341878Z",
     "shell.execute_reply": "2024-04-03T13:49:17.341261Z",
     "shell.execute_reply.started": "2024-04-03T13:49:17.334920Z"
    },
    "tags": []
   },
   "outputs": [
    {
     "data": {
      "text/plain": [
       "control_type    object\n",
       "dtype: object"
      ]
     },
     "execution_count": 10,
     "metadata": {},
     "output_type": "execute_result"
    }
   ],
   "source": [
    "df.dtypes"
   ]
  },
  {
   "cell_type": "code",
   "execution_count": 11,
   "id": "2abbe1d9-2bfe-4a88-bce0-c07f59d6af17",
   "metadata": {
    "execution": {
     "iopub.execute_input": "2024-04-03T13:49:17.343031Z",
     "iopub.status.busy": "2024-04-03T13:49:17.342754Z",
     "iopub.status.idle": "2024-04-03T13:49:22.119260Z",
     "shell.execute_reply": "2024-04-03T13:49:22.118429Z",
     "shell.execute_reply.started": "2024-04-03T13:49:17.343012Z"
    },
    "tags": []
   },
   "outputs": [
    {
     "name": "stdout",
     "output_type": "stream",
     "text": [
      "5.85 ms ± 29.2 µs per loop (mean ± std. dev. of 7 runs, 100 loops each)\n"
     ]
    }
   ],
   "source": [
    "%%timeit\n",
    "df[\"control_type\"].value_counts()"
   ]
  },
  {
   "cell_type": "code",
   "execution_count": 12,
   "id": "80fc6840-b058-440b-bb8c-1655158f45de",
   "metadata": {
    "execution": {
     "iopub.execute_input": "2024-04-03T13:49:22.120647Z",
     "iopub.status.busy": "2024-04-03T13:49:22.120188Z",
     "iopub.status.idle": "2024-04-03T13:49:27.167534Z",
     "shell.execute_reply": "2024-04-03T13:49:27.166696Z",
     "shell.execute_reply.started": "2024-04-03T13:49:22.120624Z"
    },
    "tags": []
   },
   "outputs": [
    {
     "name": "stdout",
     "output_type": "stream",
     "text": [
      "6.2 ms ± 31 µs per loop (mean ± std. dev. of 7 runs, 100 loops each)\n"
     ]
    }
   ],
   "source": [
    "%%timeit\n",
    "df.groupby(\"control_type\").count()"
   ]
  },
  {
   "cell_type": "code",
   "execution_count": 13,
   "id": "72b27171-4fc9-4c12-9eed-e3ae06f1102a",
   "metadata": {
    "execution": {
     "iopub.execute_input": "2024-04-03T13:49:27.168824Z",
     "iopub.status.busy": "2024-04-03T13:49:27.168515Z",
     "iopub.status.idle": "2024-04-03T13:49:27.180441Z",
     "shell.execute_reply": "2024-04-03T13:49:27.179802Z",
     "shell.execute_reply.started": "2024-04-03T13:49:27.168804Z"
    },
    "tags": []
   },
   "outputs": [],
   "source": [
    "df[\"control_type\"] = df[\"control_type\"].astype(\"category\")"
   ]
  },
  {
   "cell_type": "code",
   "execution_count": 14,
   "id": "fe2493dd-b965-4545-a18b-30c44414b2dd",
   "metadata": {
    "execution": {
     "iopub.execute_input": "2024-04-03T13:49:27.181549Z",
     "iopub.status.busy": "2024-04-03T13:49:27.181287Z",
     "iopub.status.idle": "2024-04-03T13:49:32.022194Z",
     "shell.execute_reply": "2024-04-03T13:49:32.021508Z",
     "shell.execute_reply.started": "2024-04-03T13:49:27.181530Z"
    },
    "tags": []
   },
   "outputs": [
    {
     "name": "stdout",
     "output_type": "stream",
     "text": [
      "593 µs ± 2.47 µs per loop (mean ± std. dev. of 7 runs, 1000 loops each)\n"
     ]
    }
   ],
   "source": [
    "%%timeit\n",
    "df[\"control_type\"].value_counts()"
   ]
  },
  {
   "cell_type": "code",
   "execution_count": 15,
   "id": "008aaddb-10ad-4bbd-abc7-b127d6120d24",
   "metadata": {
    "execution": {
     "iopub.execute_input": "2024-04-03T13:49:32.024580Z",
     "iopub.status.busy": "2024-04-03T13:49:32.024253Z",
     "iopub.status.idle": "2024-04-03T13:49:37.133892Z",
     "shell.execute_reply": "2024-04-03T13:49:37.133031Z",
     "shell.execute_reply.started": "2024-04-03T13:49:32.024558Z"
    },
    "tags": []
   },
   "outputs": [
    {
     "name": "stdout",
     "output_type": "stream",
     "text": [
      "629 µs ± 5.67 µs per loop (mean ± std. dev. of 7 runs, 1000 loops each)\n"
     ]
    }
   ],
   "source": [
    "%%timeit\n",
    "df.groupby(\"control_type\").count()"
   ]
  }
 ],
 "metadata": {
  "kernelspec": {
   "display_name": "saturn (Python 3)",
   "language": "python",
   "name": "python3"
  },
  "language_info": {
   "codemirror_mode": {
    "name": "ipython",
    "version": 3
   },
   "file_extension": ".py",
   "mimetype": "text/x-python",
   "name": "python",
   "nbconvert_exporter": "python",
   "pygments_lexer": "ipython3",
   "version": "3.8.18"
  }
 },
 "nbformat": 4,
 "nbformat_minor": 5
}
