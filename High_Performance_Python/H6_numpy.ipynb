{
 "cells": [
  {
   "cell_type": "markdown",
   "id": "9318bd26-472a-46c4-bfc2-49614d720aff",
   "metadata": {
    "execution": {
     "iopub.execute_input": "2024-03-06T14:51:52.033301Z",
     "iopub.status.busy": "2024-03-06T14:51:52.032903Z",
     "iopub.status.idle": "2024-03-06T14:51:52.037128Z",
     "shell.execute_reply": "2024-03-06T14:51:52.036283Z",
     "shell.execute_reply.started": "2024-03-06T14:51:52.033277Z"
    },
    "tags": []
   },
   "source": [
    "# Numpy"
   ]
  },
  {
   "cell_type": "markdown",
   "id": "5328ba9c-3ffc-4603-8ed5-aa86b8a5124f",
   "metadata": {},
   "source": [
    "## Vectorization\n",
    "= having the CPU do multiple things at the time\n",
    "\n",
    "Natively not possible in Python because of “memory fragmentation”:\n",
    "Lists contain pointers to objects, not the objects themselves. And the “BUS” can only move contiguous chunks of data to the cache at ones. \n",
    "But with pointes, the objects are scattered all over RAM.\n",
    "\n",
    "Luckely, there is numpy, that both stores its data contiguously and knowns how to leverage the CPU for vectorization.\n"
   ]
  },
  {
   "cell_type": "code",
   "execution_count": 1,
   "id": "ee186db6-35d7-4fa4-820b-298baf18991b",
   "metadata": {
    "execution": {
     "iopub.execute_input": "2024-03-06T14:37:22.575030Z",
     "iopub.status.busy": "2024-03-06T14:37:22.574483Z",
     "iopub.status.idle": "2024-03-06T14:37:22.701516Z",
     "shell.execute_reply": "2024-03-06T14:37:22.700803Z",
     "shell.execute_reply.started": "2024-03-06T14:37:22.574999Z"
    },
    "tags": []
   },
   "outputs": [],
   "source": [
    "import numpy as np"
   ]
  },
  {
   "cell_type": "code",
   "execution_count": 2,
   "id": "74dab7e7-ee91-46c5-a424-e8f954271bbc",
   "metadata": {
    "execution": {
     "iopub.execute_input": "2024-03-06T14:37:22.705088Z",
     "iopub.status.busy": "2024-03-06T14:37:22.704237Z",
     "iopub.status.idle": "2024-03-06T14:37:22.709628Z",
     "shell.execute_reply": "2024-03-06T14:37:22.708870Z",
     "shell.execute_reply.started": "2024-03-06T14:37:22.705056Z"
    },
    "tags": []
   },
   "outputs": [],
   "source": [
    "def dot_list_comprehension(x, y):\n",
    "    return sum([x[i] * y[i] for i in range(len(x))])"
   ]
  },
  {
   "cell_type": "code",
   "execution_count": 3,
   "id": "e29d6de9-7a28-4354-85bf-fcd25feacc94",
   "metadata": {
    "execution": {
     "iopub.execute_input": "2024-03-06T14:37:22.711323Z",
     "iopub.status.busy": "2024-03-06T14:37:22.710958Z",
     "iopub.status.idle": "2024-03-06T14:37:22.717070Z",
     "shell.execute_reply": "2024-03-06T14:37:22.716437Z",
     "shell.execute_reply.started": "2024-03-06T14:37:22.711294Z"
    },
    "tags": []
   },
   "outputs": [],
   "source": [
    "def dot_numpy(x, y):\n",
    "    return np.dot(x, y)"
   ]
  },
  {
   "cell_type": "code",
   "execution_count": 4,
   "id": "2f6e2d63-6603-4c96-ada9-8115df05a982",
   "metadata": {
    "execution": {
     "iopub.execute_input": "2024-03-06T14:37:22.718831Z",
     "iopub.status.busy": "2024-03-06T14:37:22.718093Z",
     "iopub.status.idle": "2024-03-06T14:37:22.722602Z",
     "shell.execute_reply": "2024-03-06T14:37:22.721614Z",
     "shell.execute_reply.started": "2024-03-06T14:37:22.718801Z"
    },
    "tags": []
   },
   "outputs": [],
   "source": [
    "x = list(range(1000))\n",
    "y = list(range(1000))"
   ]
  },
  {
   "cell_type": "code",
   "execution_count": 5,
   "id": "cb518abc-6ba9-4737-b2bc-c344067e14a2",
   "metadata": {
    "execution": {
     "iopub.execute_input": "2024-03-06T14:37:22.724291Z",
     "iopub.status.busy": "2024-03-06T14:37:22.723800Z",
     "iopub.status.idle": "2024-03-06T14:37:30.627110Z",
     "shell.execute_reply": "2024-03-06T14:37:30.626350Z",
     "shell.execute_reply.started": "2024-03-06T14:37:22.724262Z"
    },
    "tags": []
   },
   "outputs": [
    {
     "name": "stdout",
     "output_type": "stream",
     "text": [
      "97.4 µs ± 2.26 µs per loop (mean ± std. dev. of 7 runs, 10000 loops each)\n"
     ]
    }
   ],
   "source": [
    "%timeit dot_list_comprehension(x, y)"
   ]
  },
  {
   "cell_type": "code",
   "execution_count": 16,
   "id": "45b6b00e-8f0b-4ea9-bd29-ac1a204e1a00",
   "metadata": {
    "execution": {
     "iopub.execute_input": "2024-03-06T14:55:51.964855Z",
     "iopub.status.busy": "2024-03-06T14:55:51.964488Z",
     "iopub.status.idle": "2024-03-06T14:55:51.968765Z",
     "shell.execute_reply": "2024-03-06T14:55:51.967868Z",
     "shell.execute_reply.started": "2024-03-06T14:55:51.964830Z"
    },
    "tags": []
   },
   "outputs": [],
   "source": [
    "x_array = np.arange(1000)\n",
    "y_array = np.arange(1000)"
   ]
  },
  {
   "cell_type": "code",
   "execution_count": 7,
   "id": "3ffcb76a-274d-4b2b-8f98-d28876ed0bc8",
   "metadata": {
    "execution": {
     "iopub.execute_input": "2024-03-06T14:37:30.637424Z",
     "iopub.status.busy": "2024-03-06T14:37:30.636999Z",
     "iopub.status.idle": "2024-03-06T14:37:32.328515Z",
     "shell.execute_reply": "2024-03-06T14:37:32.327612Z",
     "shell.execute_reply.started": "2024-03-06T14:37:30.637396Z"
    },
    "tags": []
   },
   "outputs": [
    {
     "name": "stdout",
     "output_type": "stream",
     "text": [
      "2.08 µs ± 60.9 ns per loop (mean ± std. dev. of 7 runs, 100000 loops each)\n"
     ]
    }
   ],
   "source": [
    "%timeit dot_numpy(x_array, y_array)"
   ]
  },
  {
   "cell_type": "code",
   "execution_count": 9,
   "id": "fff647b6-f374-4194-af7f-4e231157974f",
   "metadata": {
    "execution": {
     "iopub.execute_input": "2024-03-06T14:40:57.725608Z",
     "iopub.status.busy": "2024-03-06T14:40:57.725186Z",
     "iopub.status.idle": "2024-03-06T14:40:57.729886Z",
     "shell.execute_reply": "2024-03-06T14:40:57.728936Z",
     "shell.execute_reply.started": "2024-03-06T14:40:57.725583Z"
    },
    "tags": []
   },
   "outputs": [],
   "source": [
    "assert dot_list_comprehension(x, y) == dot_numpy(x_array, y_array)"
   ]
  },
  {
   "cell_type": "markdown",
   "id": "916e70d7-da36-4593-ad52-2338185a6cd8",
   "metadata": {},
   "source": [
    "### Note!\n",
    "However that there is an overhead on creating numpy arrays from lists, e.g. this is actually slower then list comprehension:"
   ]
  },
  {
   "cell_type": "code",
   "execution_count": 10,
   "id": "4963f3ed-b748-4b85-a8a8-971c82657d33",
   "metadata": {
    "execution": {
     "iopub.execute_input": "2024-03-06T14:41:45.930646Z",
     "iopub.status.busy": "2024-03-06T14:41:45.930256Z",
     "iopub.status.idle": "2024-03-06T14:41:58.094848Z",
     "shell.execute_reply": "2024-03-06T14:41:58.093461Z",
     "shell.execute_reply.started": "2024-03-06T14:41:45.930620Z"
    },
    "tags": []
   },
   "outputs": [
    {
     "name": "stdout",
     "output_type": "stream",
     "text": [
      "150 µs ± 3.69 µs per loop (mean ± std. dev. of 7 runs, 10000 loops each)\n"
     ]
    }
   ],
   "source": [
    "%timeit dot_numpy(x, y)"
   ]
  },
  {
   "cell_type": "markdown",
   "id": "53d3f29c-d9b1-4e5c-a95e-1e3495de7417",
   "metadata": {},
   "source": [
    "## In place operations\n",
    "\n",
    "In-place operations alter the object itself\n",
    "\n",
    "Non in-place operations make a new object in memory, which is expensive"
   ]
  },
  {
   "cell_type": "code",
   "execution_count": 17,
   "id": "8423b8e6-05a9-46a1-82bc-c698e66a9d23",
   "metadata": {
    "execution": {
     "iopub.execute_input": "2024-03-06T14:56:01.348161Z",
     "iopub.status.busy": "2024-03-06T14:56:01.347806Z",
     "iopub.status.idle": "2024-03-06T14:56:01.352055Z",
     "shell.execute_reply": "2024-03-06T14:56:01.351101Z",
     "shell.execute_reply.started": "2024-03-06T14:56:01.348137Z"
    },
    "tags": []
   },
   "outputs": [],
   "source": [
    "z_array = np.arange(1000)"
   ]
  },
  {
   "cell_type": "code",
   "execution_count": 45,
   "id": "a2c5eb5a-6843-4091-b2bc-b882a3f8280c",
   "metadata": {
    "execution": {
     "iopub.execute_input": "2024-03-06T15:00:10.870728Z",
     "iopub.status.busy": "2024-03-06T15:00:10.870337Z",
     "iopub.status.idle": "2024-03-06T15:00:10.875671Z",
     "shell.execute_reply": "2024-03-06T15:00:10.874708Z",
     "shell.execute_reply.started": "2024-03-06T15:00:10.870703Z"
    },
    "tags": []
   },
   "outputs": [
    {
     "name": "stdout",
     "output_type": "stream",
     "text": [
      "id of z                              140330476183152\n",
      "id of z after iniplace addition      140330476183152\n",
      "id of z after non-in-place addition  140330476182864\n"
     ]
    }
   ],
   "source": [
    "print(f\"id of z {id(z_array):>44}\")\n",
    "z_array += y_array\n",
    "print(f\"id of z after iniplace addition {id(z_array):>20}\")\n",
    "z_array = z_array + y_array\n",
    "print(f\"id of z after non-in-place addition  {id(z_array):>10}\")"
   ]
  },
  {
   "cell_type": "code",
   "execution_count": 46,
   "id": "dbac1c6d-c2e9-4d12-b47a-a068983ba176",
   "metadata": {
    "execution": {
     "iopub.execute_input": "2024-03-06T15:00:20.219210Z",
     "iopub.status.busy": "2024-03-06T15:00:20.218851Z",
     "iopub.status.idle": "2024-03-06T15:00:20.225575Z",
     "shell.execute_reply": "2024-03-06T15:00:20.224775Z",
     "shell.execute_reply.started": "2024-03-06T15:00:20.219185Z"
    },
    "tags": []
   },
   "outputs": [],
   "source": [
    "def add_not_in_place(x, y):\n",
    "    x = x + y\n",
    "    return x\n",
    "\n",
    "def add_in_place(x, y):\n",
    "    x += y\n",
    "    return x"
   ]
  },
  {
   "cell_type": "code",
   "execution_count": 47,
   "id": "928a4a94-0702-43ad-8f96-25305b214bad",
   "metadata": {
    "execution": {
     "iopub.execute_input": "2024-03-06T15:00:23.816873Z",
     "iopub.status.busy": "2024-03-06T15:00:23.816517Z",
     "iopub.status.idle": "2024-03-06T15:00:31.724283Z",
     "shell.execute_reply": "2024-03-06T15:00:31.723354Z",
     "shell.execute_reply.started": "2024-03-06T15:00:23.816850Z"
    },
    "tags": []
   },
   "outputs": [
    {
     "name": "stdout",
     "output_type": "stream",
     "text": [
      "978 ns ± 23.9 ns per loop (mean ± std. dev. of 7 runs, 1000000 loops each)\n"
     ]
    }
   ],
   "source": [
    "%timeit add_not_in_place(x_array, y_array)"
   ]
  },
  {
   "cell_type": "code",
   "execution_count": 48,
   "id": "fde7b071-0eac-4cb1-b13c-9b25a6a58eaf",
   "metadata": {
    "execution": {
     "iopub.execute_input": "2024-03-06T15:00:31.726564Z",
     "iopub.status.busy": "2024-03-06T15:00:31.725973Z",
     "iopub.status.idle": "2024-03-06T15:00:41.259266Z",
     "shell.execute_reply": "2024-03-06T15:00:41.258388Z",
     "shell.execute_reply.started": "2024-03-06T15:00:31.726531Z"
    },
    "tags": []
   },
   "outputs": [
    {
     "name": "stdout",
     "output_type": "stream",
     "text": [
      "1.18 µs ± 34.5 ns per loop (mean ± std. dev. of 7 runs, 1000000 loops each)\n"
     ]
    }
   ],
   "source": [
    "%timeit add_in_place(x_array, y_array)"
   ]
  },
  {
   "cell_type": "code",
   "execution_count": null,
   "id": "db454271-ebd3-4832-9e47-32bc9a6cb93d",
   "metadata": {},
   "outputs": [],
   "source": []
  }
 ],
 "metadata": {
  "kernelspec": {
   "display_name": "saturn (Python 3)",
   "language": "python",
   "name": "python3"
  },
  "language_info": {
   "codemirror_mode": {
    "name": "ipython",
    "version": 3
   },
   "file_extension": ".py",
   "mimetype": "text/x-python",
   "name": "python",
   "nbconvert_exporter": "python",
   "pygments_lexer": "ipython3",
   "version": "3.8.18"
  }
 },
 "nbformat": 4,
 "nbformat_minor": 5
}
